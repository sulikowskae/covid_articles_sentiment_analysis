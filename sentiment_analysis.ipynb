{
  "nbformat": 4,
  "nbformat_minor": 0,
  "metadata": {
    "colab": {
      "provenance": []
    },
    "kernelspec": {
      "display_name": "Python 3",
      "name": "python3"
    },
    "language_info": {
      "name": "python"
    }
  },
  "cells": [
    {
      "cell_type": "markdown",
      "metadata": {
        "id": "VoJOs6CThqDB"
      },
      "source": [
        "# Necessary packages"
      ]
    },
    {
      "cell_type": "code",
      "metadata": {
        "colab": {
          "base_uri": "https://localhost:8080/"
        },
        "id": "D-kamtflhA6f",
        "outputId": "d3116a81-0024-40c1-a1a7-8af483630f27"
      },
      "source": [
        "import nltk\n",
        "nltk.download('punkt')\n",
        "import nltk.corpus\n",
        "from nltk.text import Text, ConcordanceIndex, FreqDist\n",
        "nltk.download('stopwords')\n",
        "from nltk.tokenize import word_tokenize, RegexpTokenizer\n",
        "nltk.download('vader_lexicon')\n",
        "\n",
        "import re\n",
        "import pandas as pd\n",
        "import matplotlib.pyplot as plt\n",
        "import seaborn as sns"
      ],
      "execution_count": null,
      "outputs": [
        {
          "output_type": "stream",
          "text": [
            "[nltk_data] Downloading package punkt to /root/nltk_data...\n",
            "[nltk_data]   Unzipping tokenizers/punkt.zip.\n",
            "[nltk_data] Downloading package stopwords to /root/nltk_data...\n",
            "[nltk_data]   Unzipping corpora/stopwords.zip.\n",
            "[nltk_data] Downloading package vader_lexicon to /root/nltk_data...\n"
          ],
          "name": "stdout"
        }
      ]
    },
    {
      "cell_type": "markdown",
      "metadata": {
        "id": "qA3Wdca1icEJ"
      },
      "source": [
        "# Open text files"
      ]
    },
    {
      "cell_type": "markdown",
      "metadata": {
        "id": "LXRko8Q_iyVz"
      },
      "source": [
        "## The Guardian"
      ]
    },
    {
      "cell_type": "code",
      "metadata": {
        "id": "aablTSGK3VYP",
        "colab": {
          "base_uri": "https://localhost:8080/"
        },
        "outputId": "51545eda-e48d-43e2-b29d-f017de9a329b"
      },
      "source": [
        "from google.colab import drive\n",
        "drive.mount('/content/drive')"
      ],
      "execution_count": null,
      "outputs": [
        {
          "output_type": "stream",
          "text": [
            "Mounted at /content/drive\n"
          ],
          "name": "stdout"
        }
      ]
    },
    {
      "cell_type": "code",
      "metadata": {
        "id": "4dpVUYkmhe4O"
      },
      "source": [
        "# open and read covid_news file\n",
        "f = open(\"/content/drive/MyDrive/guardian_news.txt\", \"r\")\n",
        "guardian_raw = f.read()"
      ],
      "execution_count": null,
      "outputs": []
    },
    {
      "cell_type": "code",
      "metadata": {
        "id": "YqFUEnuv3dSF"
      },
      "source": [
        "# other way to open files (without google drive)\n",
        "f = open(\"guardian_news.txt\", \"r\")\n",
        "guardian_raw = f.read()"
      ],
      "execution_count": null,
      "outputs": []
    },
    {
      "cell_type": "markdown",
      "metadata": {
        "id": "Il3SuuaKi177"
      },
      "source": [
        "## BBC"
      ]
    },
    {
      "cell_type": "code",
      "metadata": {
        "id": "UDXK_rsRiPeH"
      },
      "source": [
        "# open and read covid_news file\n",
        "f = open(\"/content/drive/MyDrive/bbc_news.txt\", \"r\")\n",
        "bbc_raw = f.read()"
      ],
      "execution_count": null,
      "outputs": []
    },
    {
      "cell_type": "code",
      "metadata": {
        "id": "LHr7DOWk3paE"
      },
      "source": [
        "# other way to open files (without google drive)\n",
        "f = open(\"bbc_news.txt\", \"r\")\n",
        "bbc_raw = f.read()"
      ],
      "execution_count": null,
      "outputs": []
    },
    {
      "cell_type": "markdown",
      "metadata": {
        "id": "1p54oz0wjuNJ"
      },
      "source": [
        "# Sentiment analysis of news"
      ]
    },
    {
      "cell_type": "code",
      "metadata": {
        "id": "89zfHyC9j8OJ"
      },
      "source": [
        "# -*- coding: utf-8 -*-\n",
        "import re\n",
        "alphabets= \"([A-Za-z])\"\n",
        "prefixes = \"(Mr|St|Mrs|Ms|Dr)[.]\"\n",
        "suffixes = \"(Inc|Ltd|Jr|Sr|Co)\"\n",
        "starters = \"(Mr|Mrs|Ms|Dr|He\\s|She\\s|It\\s|They\\s|Their\\s|Our\\s|We\\s|But\\s|However\\s|That\\s|This\\s|Wherever)\"\n",
        "acronyms = \"([A-Z][.][A-Z][.](?:[A-Z][.])?)\"\n",
        "websites = \"[.](com|net|org|io|gov)\"\n",
        "\n",
        "def split_into_sentences(text):\n",
        "    text = \" \" + text + \"  \"\n",
        "    text = text.replace(\"\\n\",\" \")\n",
        "    text = re.sub(prefixes,\"\\\\1<prd>\",text)\n",
        "    text = re.sub(websites,\"<prd>\\\\1\",text)\n",
        "    if \"Ph.D\" in text: text = text.replace(\"Ph.D.\",\"Ph<prd>D<prd>\")\n",
        "    text = re.sub(\"\\s\" + alphabets + \"[.] \",\" \\\\1<prd> \",text)\n",
        "    text = re.sub(acronyms+\" \"+starters,\"\\\\1<stop> \\\\2\",text)\n",
        "    text = re.sub(alphabets + \"[.]\" + alphabets + \"[.]\" + alphabets + \"[.]\",\"\\\\1<prd>\\\\2<prd>\\\\3<prd>\",text)\n",
        "    text = re.sub(alphabets + \"[.]\" + alphabets + \"[.]\",\"\\\\1<prd>\\\\2<prd>\",text)\n",
        "    text = re.sub(\" \"+suffixes+\"[.] \"+starters,\" \\\\1<stop> \\\\2\",text)\n",
        "    text = re.sub(\" \"+suffixes+\"[.]\",\" \\\\1<prd>\",text)\n",
        "    text = re.sub(\" \" + alphabets + \"[.]\",\" \\\\1<prd>\",text)\n",
        "    if \"”\" in text: text = text.replace(\".”\",\"”.\")\n",
        "    if \"\\\"\" in text: text = text.replace(\".\\\"\",\"\\\".\")\n",
        "    if \"!\" in text: text = text.replace(\"!\\\"\",\"\\\"!\")\n",
        "    if \"?\" in text: text = text.replace(\"?\\\"\",\"\\\"?\")\n",
        "    text = text.replace(\".\",\".<stop>\")\n",
        "    text = text.replace(\"?\",\"?<stop>\")\n",
        "    text = text.replace(\"!\",\"!<stop>\")\n",
        "    text = text.replace(\"<prd>\",\".\")\n",
        "    sentences = text.split(\"<stop>\")\n",
        "    sentences = sentences[:-1]\n",
        "    sentences = [s.strip() for s in sentences]\n",
        "    return sentences"
      ],
      "execution_count": null,
      "outputs": []
    },
    {
      "cell_type": "code",
      "metadata": {
        "colab": {
          "base_uri": "https://localhost:8080/"
        },
        "id": "0pRkXUoenEfZ",
        "outputId": "70d5b076-ee11-472b-cf70-1eabe1811109"
      },
      "source": [
        "# obtaining a set stop words\n",
        "from nltk.corpus import stopwords\n",
        "\n",
        "stop_words = stopwords.words('english')\n",
        "print(stop_words[:10])"
      ],
      "execution_count": null,
      "outputs": [
        {
          "output_type": "stream",
          "text": [
            "['i', 'me', 'my', 'myself', 'we', 'our', 'ours', 'ourselves', 'you', \"you're\"]\n"
          ],
          "name": "stdout"
        }
      ]
    },
    {
      "cell_type": "code",
      "metadata": {
        "id": "Z9fRkrrqn9SC"
      },
      "source": [
        "tokenizer = RegexpTokenizer(r'\\w+')\n",
        "\n",
        "def process_text(sentences):\n",
        "    tokens = []\n",
        "    for line in sentences:\n",
        "        toks = tokenizer.tokenize(line)\n",
        "        toks = [t.lower() for t in toks if t.lower() not in stop_words]\n",
        "        tokens.extend(toks)\n",
        "\n",
        "    return tokens"
      ],
      "execution_count": null,
      "outputs": []
    },
    {
      "cell_type": "markdown",
      "metadata": {
        "id": "raKF_eM6jwYX"
      },
      "source": [
        "## Sentiment analysis of sentences in The Guardian articles"
      ]
    },
    {
      "cell_type": "code",
      "metadata": {
        "id": "lhBD8BCLj4Ma"
      },
      "source": [
        "guardian_sentences = split_into_sentences(guardian_raw)"
      ],
      "execution_count": null,
      "outputs": []
    },
    {
      "cell_type": "code",
      "metadata": {
        "colab": {
          "base_uri": "https://localhost:8080/"
        },
        "id": "Y_JvfesXQndS",
        "outputId": "8c122ded-b371-42cd-c57c-66f1ecb9f731"
      },
      "source": [
        "guardian_sentences"
      ],
      "execution_count": null,
      "outputs": [
        {
          "output_type": "execute_result",
          "data": {
            "text/plain": [
              "['12:03  The UK government has admitted a health minister used private emails for government business despite denying it 24 hours earlier, but defended Lord Bethell, saying he had abided by the guidance.',\n",
              " 'Bethell, a close ally of the former health secretary Matt Hancock, defended his use of email today.',\n",
              " 'The comments contradicted the defence No 10 made yesterday, when the spokesman said “both the former health secretary and Lord Bethell understand the rules around personal email usage and only ever conducted government business through their departmental email addresses”.',\n",
              " 'Bethell, who oversaw the award of Covid contracts, has faced calls for his resignation over his use of private email and his sponsorship of a parliamentary pass for Hancock’s aide Gina Coladangelo, with whom the former health secretary had an affair.',\n",
              " 'On Monday, the Guardian revealed that a number of emails were copied into Bethell’s private email account.',\n",
              " 'His address was copied into at least four official exchanges relating to a businessman who was attempting to get government contracts during the pandemic.',\n",
              " 'In April 2020, the businessman had approached his MP, Oliver Dowden, as he believed his firm’s testing kits were cheaper than those being bought by the government.',\n",
              " 'The hope was that schools could stagger on for another few weeks, sending groups of children home when positive Covid tests were reported, but otherwise carrying on with their best imitation of normal, with September expected to bring an end to compulsory quarantine when a member of the same bubble tests positive.',\n",
              " 'But three weeks before the holidays in most English schools, chaos has once again broken out.',\n",
              " 'Cases are rising, as are closures, with official figures showing one child in 20 was out of school within the last week.',\n",
              " 'Areas including the north-west are disproportionately affected, leading to serious disruption.',\n",
              " 'Once again, children are losing out.',\n",
              " 'Pupils have already missed out on significant chunks of education and many simply cannot afford to miss any more.',\n",
              " 'End-of-year events are also a hugely important part of the school year.',\n",
              " 'They include exams, sports days and concerts, as well as graduations and other rituals.',\n",
              " 'This matters.',\n",
              " 'What makes this situation all the more worrying is the inadequacy of the government’s response.',\n",
              " 'On Tuesday, Sir Kevan Collins told MPs on the education committee how disappointed he was when he resigned from the post of education recovery commissioner after four months.',\n",
              " 'By offering just £1.',\n",
              " '4bn in funding when it was asked for £15bn, he explained, the government revealed its unwillingness to commit to the “massive national effort” that is required to prevent long-term harm.',\n",
              " 'The new health secretary, Sajid Javid, has said that he is seeking “more flexibilities” when it comes to the school rules around Covid.',\n",
              " 'On-site testing is being trialled.',\n",
              " 'But ministers are scrambling to address a problem that they should have seen coming.',\n",
              " 'Guidance on mask wearing that was dropped in May should have been brought back when the Delta variant began spreading.',\n",
              " 'More attention should be paid to ventilation, and support given to those told to isolate.',\n",
              " 'As with adults, vaccination is the obvious way to halt the virus’s progress.',\n",
              " 'The Pfizer/BioNTech vaccine is approved for use in anyone over 12.',\n",
              " 'School leaders and teaching unions have called on ministers to make vaccinating children a priority.',\n",
              " 'Many parents of children with underlying health conditions also support this.',\n",
              " 'Unless or until the Oxford/AstraZeneca vaccine is approved, this would entail sourcing more Pfizer doses.',\n",
              " 'If ministers and their advisers have some other plan, or believe that vaccine sharing with low-income countries should take priority, given the low risks that children face, they must publicly explain their reasoning.',\n",
              " 'Other groups including care home residents have also been appallingly let down.',\n",
              " 'But whatever the reason, the government’s neglect of young people during this pandemic is among the ugliest blots on its record, and one for which everyone who cares about education, both in politics and outside, must hold it to account.',\n",
              " 'Government officials emailed the British Business Bank eight times for updates on Greensill Capital’s Covid loan requests, MPs have been told, raising further questions about the failed finance firm’s influence across Whitehall.',\n",
              " 'The Bank’s head of operations told the parliamentary scrutiny committee on Tuesday that the Department for Business, Energy and Industrial Strategy (BEIS) had asked for multiple “progress” updates on Greensill’s application to the coronavirus large business interruption loan scheme.',\n",
              " 'The supply chain finance firm – which counted David Cameron as an adviser and shareholder – was hoping to lend hundreds of thousands of pounds to its customers through the programme, which came with an 80% government guarantee that meant it would only have to cover 20% of the losses if borrowers failed to repay their debts.',\n",
              " 'Greensill reportedly handed £400m of those loans to one of its largest borrowers, the Liberty Steel owner GFG Alliance, in a move that may have breached scheme rules and is now being investigated by the British Business Bank (BBB).',\n",
              " 'The fact that BEIS – then run by Alok Sharma – was inquiring about Greensill’s success in the second-largest Covid loan scheme will raise further questions over Greensill’s sway in Westminster, which is already grappling with the largest lobbying scandal in a generation.',\n",
              " 'The scandal followed revelations that Cameron relentlessly lobbied Treasury and Bank of England officials to give Greensill access to the largest Covid loan scheme – known as the CCFF – sending 56 texts, WhatsApp messages, emails and phone calls in the process.',\n",
              " 'It emerged on Tuesday that Cameron was interviewed by Nigel Boardman, the chair of the Cabinet Office’s inquiry into the Greensill scandal, earlier this month.',\n",
              " 'The BBB’s chief operating officer, Patrick Magee, told MPs on the BEIS committee that the Bank – which was in charge of vetting lenders before they could issue Covid loans – received “eight email inquiries about the Greensill application” from “officials within the BEIS deal team”.',\n",
              " 'The Guardian understands that the emails were sent over a four-month period, after Greensill’s application to the scheme on 23 April 2020.',\n",
              " 'While BEIS initially asked for progress updates on Greensill’s accreditation, later emails asked whether Greensill would be allowed to offer loans worth more than £50m, which required special permission and was ultimately denied.',\n",
              " 'BEIS is also understood to have been concerned about getting money to companies including Liberty Steel UK, which employs about 3,000 people in the UK and is now facing an uncertain future after Greensill’s collapse in March.',\n",
              " 'The BBB ended up approving Greensill for the scheme in June 2020.',\n",
              " 'However, Magee insisted that they “were not influenced” by the business department’s constant queries.',\n",
              " '“We reached our own balanced commercial decision [in light of] the eligibility criteria of the scheme,” he said.',\n",
              " 'The BBB ultimately suspended Greensill’s government guarantees in October 2020, just four months after its application was approved.',\n",
              " 'It launched an investigation into how it had been distributing loans to one of its largest customers, GFG Alliance, the loose umbrella of companies owned by the metals magnate and Liberty Steel owner Sanjeev Gupta.',\n",
              " 'That investigation is ongoing.',\n",
              " 'By March 2021 Greensill had collapsed, after insurers refused to renew contracts that underpinned billions of pounds worth of customer loans and helped keep its complex financial operation afloat.',\n",
              " 'A National Audit Office report into Greensill’s accreditation and involvement in the Covid-19 loan scheme is expected in July, Magee said.',\n",
              " 'A BEIS spokesperson said: “BEIS officials engage regularly with British Business Bank as the Department responsible for business finance.',\n",
              " 'All decisions taken by the British Business Bank are made independently of ministers in accordance with the Bank’s usual procedures”.',\n",
              " 'When the Black Death ravaged Europe in the 1300s there were no newspapers.',\n",
              " 'When the Spanish flu killed an estimated 100 million worldwide in the early 1900s there were no radio or television news broadcasts, no daily livestreamed press conferences, no computers, email or social media.',\n",
              " 'Even the HIV/Aids pandemic that started in 1981 ran most of its course at a time when news was absorbed by households gathering around a single screen at a defined time of day, or by sharing around the daily piece of dead tree over breakfast.',\n",
              " 'But now, everything has changed – and public health experts, politicians and journalists are having to wrestle with the implications, and a changed relationship with the public and with truth.',\n",
              " 'The World Health Organization has described what we are currently living through as an “infodemic” running alongside the Covid pandemic.',\n",
              " 'It is, the WHO said, “the first pandemic in history in which technology and social media are being used on a massive scale to keep people safe, informed, productive and connected”.',\n",
              " 'But at the same time, communications technology enabled the undermining of the global response.',\n",
              " 'Journalism struggles to keep up.',\n",
              " 'One of the touchstones of the craft is the idea that sunshine and publicity are like disinfectant in public life.',\n",
              " 'A journalist’s job is to find things out and tell people about them.',\n",
              " 'Suppressing the news is considered indefensible in a democracy.',\n",
              " 'Is it serving the public interest to publish prominently every report of an AstraZeneca vaccine recipient getting blood clots?',\n",
              " 'Public health has an analogous principle.',\n",
              " 'The Centre for Disease Control in the US has a field manual for epidemiologists that counsels the importance of trust and credibility.',\n",
              " 'These, the manual says, rest on “honesty and openness” with the public.',\n",
              " 'Suppression of information is considered unconscionable.',\n",
              " 'But in this, the first public health emergency in a mediatised world, there are good reasons to question these first principles, which were developed in an earlier age.',\n",
              " 'Is it, for example, serving the public interest to publish prominently every report of an AstraZeneca vaccine recipient getting blood clots – even though we know the risk is rare, and the risk of vaccine hesitancy is greater?',\n",
              " 'Should we not report it at all?',\n",
              " 'Or just with less prominence?',\n",
              " 'A vial of the AstraZeneca coronavirus vaccine.',\n",
              " 'Photograph: James Ross/AAP  It is not an easy question.',\n",
              " 'Any journalist, or government, found to have covered up news about dangerous side-effects is guaranteed to lose the public trust on which credibility relies.',\n",
              " 'And yet some reporting has almost certainly fed vaccine hesitancy – which is also a life-threatening phenomenon.',\n",
              " 'Was it helpful and responsible for Melbourne’s Herald Sun to report the news of AstraZeneca being dropped as the preferred vaccine for people in their 50s with the headline “Flirting with DisAstra”?',\n",
              " 'And what was the decision-making process that led Nine newspapers to headline a story “Doctors warn over 50s cancelling appointments despite experts saying second doses are safe” in one newspaper, and report the same events in another title as “Why Rodney won’t be getting his second jab” with the fact experts said it was safe relegated to the fifth paragraph.',\n",
              " 'Was there a discussion about this?',\n",
              " 'Any thought given to the balance of responsibilities?',\n",
              " 'Decades in newsrooms tells me that the answer is “probably not”.',\n",
              " 'Newsrooms make judgment calls every minute of every extremely frantic working day, but most of these are invisible even to the players, obscured by the working day, by habits and unquestioned assumptions.',\n",
              " 'It is just the way things are done.',\n",
              " 'It’s called “news sense”.',\n",
              " 'Or, to spread the blame, how helpful is it for prime minister Scott Morrison to congratulate NSW premier Gladys Berejiklian on not going into a lockdown just 24 hours before she did exactly that – except she at first called it a “stay-at-home order”.',\n",
              " 'NSW premier Gladys Berejiklian faces the media during a Covid update in Sydney on Tuesday.',\n",
              " 'Photograph: Mick Tsikas/AAP  We shouldn’t be surprised that the pandemic response is politicised.',\n",
              " 'Public health has always been about politics in the broad sense of the word.',\n",
              " 'It is about how we choose to live together, and the balance between individual freedom and collective responsibility.',\n",
              " 'It was only once society understood the importance of bacteria and viruses, that plagues such as typhus, cholera and smallpox were tackled through sewerage and water systems built by government – which implied taxation to pay for them.',\n",
              " 'Later came mass vaccination and quarantine and, in the case of HIV/Aids, government interventions to change behaviour in the most intimate aspects of citizens’ lives.',\n",
              " 'It’s not surprising that those who emphasise individual liberty are more hostile to society-wide government interventions, and not surprising that those who emphasise shared social responsibility are more open to government restricting freedoms in the interest of public health.',\n",
              " 'Thus we have an innate left-right divide.',\n",
              " 'I would argue history teaches us that when it comes to health, social responsibility wins.',\n",
              " 'Individual liberty means little without the right to health.',\n",
              " 'The big advances in human wellbeing since the Black Death have all been about collective action and public health.',\n",
              " 'But precisely because this is political, messaging matters.',\n",
              " 'And politicians and journalists have particular responsibility.',\n",
              " 'Queensland University of Technology academics Axel Bruns, Stephen Harrington and Edward Hurcombe recently published the results of a study on the spread of the false idea that 5G technologies caused Covid.',\n",
              " 'At first, they found, the assertion was confined to existing fringe groups on social media and did not spread beyond them.',\n",
              " 'Then a few celebrities began to promulgate the idea.',\n",
              " 'That’s when the mainstream media became part of the problem.',\n",
              " '“Soft” and entertainment reporting proved journalism’s weak spot, because the celebrity antics were considered automatically newsworthy, and were reported without challenge.',\n",
              " 'That content, with the credibility leant by the news media brands, was picked up, shared and distorted more widely.',\n",
              " 'A protester holds up a jumper during an anti-lockdown protest in Melbourne in September 2020.',\n",
              " 'Photograph: Erik Anderson/AAP  Then activists began to sabotage 5G phone towers in the United Kingdom.',\n",
              " 'At that point, serious journalists felt obliged to report both the sabotage and the reasons for it, all agog that people could believe such things.',\n",
              " 'But would any of it happened if the media had simply not reported the original fringe claims?',\n",
              " 'Hurcombe comments: “All this tells us that misinformation is not just a social media problem, or the sole fault of fringe accounts.',\n",
              " 'Instead, celebrities and mainstream news can play major roles in spreading false – even harmful – claims,” he says.',\n",
              " 'In recent months it has become clear that politicians are a kind of celebrity.',\n",
              " 'Again, journalists consider what they say as inherently newsworthy.',\n",
              " 'And it is not only the fringe players such as Craig Kelly, but also the prime minister and senior opposition figures.',\n",
              " 'One thing for doctor and experienced ABC health journalist Norman Swan to say in the course of an interview, with lots of context and explanation, that in less urgent times AstraZeneca might be withdrawn from the market.',\n",
              " 'Another for Kristina Keneally to leap on social media and use Swan’s comment to protest “Once again older women just didn’t matter … Morrison has stuffed it up again.',\n",
              " 'What a mess”.',\n",
              " 'As some of her followers commented: “Thanks for pushing vaccine hesitancy.',\n",
              " 'You are the problem”.',\n",
              " 'Perhaps the assumption that what politicians say is automatically newsworthy is due for a challenge.',\n",
              " 'In the US in the aftermath of the presidential election, some news outlets took the momentous professional decision not to report Donald Trump when he was spouting falsehoods.',\n",
              " 'But do we trust journalists – neither elected nor accountable – to make those decisions?',\n",
              " 'How do we acknowledge a need to exercise responsibility without becoming censors?',\n",
              " 'Former prime minister Kevin Rudd holds up a front page of Sydney’s Murdoch-owned Daily Telegraph at the media diversity inquiry at Parliament House in Canberra in February.',\n",
              " 'Photograph: Mike Bowers/The Guardian  And what of the journalist who has reservations, but knows that the competing outlet will have no such scruples?',\n",
              " 'Or that the cat is already out of the bag on social media, and perhaps it might be better for journalists to enter the field rather than leave it to the crazies?',\n",
              " 'Whitney Phillips, a professor of communication at Syracuse University in New York, has written a report on how journalists should approach the reporting of extremists and manipulators online.',\n",
              " 'She talks about the “ambivalence of journalistic amplification … as necessary as it is problematic”.',\n",
              " 'Is it for the journalist to adjudicate on the false dichotomy between public health and the economy?',\n",
              " 'Among her suggestions is to always think, before reporting, about the context, the way the material might be misused, and in particular consider whether the story should be reported at all.',\n",
              " 'If the story has not already extended beyond a small community and has damaging potential, “all reporting will do is provide oxygen”.',\n",
              " 'But where to draw the line?',\n",
              " 'Reporting the devastating impact of lockdowns on businesspeople, for example, probably undermines public compliance.',\n",
              " 'Is it for the journalist to adjudicate on the false dichotomy between public health and the economy?',\n",
              " 'And a news outlet that doesn’t report the suffering of its community is hardly going to retain public trust.',\n",
              " 'There are no easy answers.',\n",
              " 'We are in the middle of a step-change in how we live together, enabled by a communications revolution.',\n",
              " 'We must work it out as best we can.',\n",
              " 'But as we do so, politicians, public figures and journalists should consider that just because we are free to speak doesn’t always mean we should.',\n",
              " 'And that with all freedoms come equivalent responsibilities.',\n",
              " 'The retail sector in New South Wales is calling for clearer guidance around what businesses are “essential services” during lockdown after major retailers Harvey Norman and JB Hi-Fi were listed as casual contact locations for an active coronavirus case.',\n",
              " 'The public health order that plunged much of the state into lockdown on Saturday states residents can only leave their homes for specific reasons, including purchasing essential goods.',\n",
              " 'But the order does not specify what an essential good is, nor what an essential retailer is, leading to confusion about whether general retailers should remain open or not, said SDA, the union for retail, fast food and warehousing workers.',\n",
              " 'Major retailers Harvey Norman and JB Hi-Fi in Westfield Bondi Junction were listed as casual contact locations for an active coronavirus case on Monday night, sparking calls for greater clarity around the public health order.',\n",
              " 'Bernie Smith, the NSW secretary of the SDA, said the public health order needed to be more specific.',\n",
              " '“There has been some confusion which retail outlets can open as it is not clearly defined in the public health order,” he said.',\n",
              " 'NSW Health have not responded to a request for comment on the issue.',\n",
              " 'Smith said the lack of clarity had left the decision on whether to open or not to the retailers themselves and, with many businesses and workers in precarious financial positions, many felt they needed to remain open during the lockdown.',\n",
              " 'Sign up to receive the top stories from Guardian Australia every morning  “People in insecure work may be tempted to turn up to work because they cannot financially afford to stay home,” Smith said.',\n",
              " '“This is a choice no worker should have to make.',\n",
              " '“There is some confusion about what retailers can open.',\n",
              " 'Some retailers like Myer have quickly adjusted and have closed their doors to the public but kept members employed by fulfilling online orders and doing click and collect.',\n",
              " '“All retailers must put employee safety first in determining whether they should open or not”.',\n",
              " 'Smith called on the industry to more widely implement paid Covid leave for vulnerable workers, in light of the public health orders.',\n",
              " '“We commend a large number of retailers, including Woolworths, Coles, Bunnings, Big W, Dan Murphy’s and others who have paid vulnerable workers leave in place for immunocompromised employees and workers aged more than 70, which means they can stay home and stay safe without loss of pay,” Smith said.',\n",
              " '“We are also pleased with a range of retailers who have paid Covid leave in place for employees needing to isolate due to Covid exposure at work or in the community.',\n",
              " '“However, while this has been achieved in a range of unionised companies, the fact that it is not yet universally available leaves workers and the community at risk”.',\n",
              " 'Dominique Lamb, the CEO of the National Retail Association, said many retailers faced a difficult decision after the health orders restricted the movement of residents.',\n",
              " '“They are permitted to remain open, the difficulty is that the directive for consumers is to stay home unless you need to go out for essential supplies, and that restriction of movement means people typically don’t go to the shops and actually shop around, they only head there to purchase essential items and leave very quickly,” Lamb said.',\n",
              " '“So whether or not they are able to trade is kind of, yes it’s good they have the choice but practically is it worth their while?',\n",
              " 'In many cases, it’s not”.',\n",
              " 'Lamb said the directives were confusing, especially as every state and territory had taken a different approach to the industry when it came to lockdown.',\n",
              " 'She called on the federal government to establish national consistency around lockdown guidelines.',\n",
              " '“We’ve seen this happen for 18 months, every state and territory takes a different approach when it comes to who can and can’t trade,” Lamb said.',\n",
              " '“There is no national consistency here … every single time we have an outbreak, we get a different set of rules.',\n",
              " '“And what we really need at this time is to support the small and family owned businesses, because it is tough, and every time this happens, they lose considerable opportunities to sell, which is how they survive”.',\n",
              " 'Lamb said she thought it was a positive that the retailers could chose to remain open, especially after a challenging 18 months.',\n",
              " '“I think that it is in the interest of retail to be able to trade during these periods, particularly where they are able to implement the appropriate hygiene protocols amongst other things,” Lamb said.',\n",
              " '“Sadly, when we have lockdowns and restrictions on movement, it just isn’t good for business.',\n",
              " 'It just means that our industry is likely to see quite a significant decline in their sales”.',\n",
              " 'Health officials in Los Angeles county now strongly recommend that people wear masks indoors in public places, regardless of their vaccination status, to prevent the spread of the highly transmissible Delta variant of the coronavirus.',\n",
              " 'Monday’s recommendation by the LA county health department comes as the US Centers for Disease Control and Prevention (CDC) noted that Delta variants are now responsible for about one in every five new infections across the US.',\n",
              " 'LA county health officials noted that “fully vaccinated people appear to be well protected from infections with Delta variants”.',\n",
              " 'But the department suggests that people wear masks when inside grocery or retail stores, as well as theaters and family entertainment centers and workplaces when people’s vaccination statuses are not known.',\n",
              " '“Until we better understand how and to who the Delta variant is spreading, everyone should focus on maximum protection with minimum interruption to routine as all businesses operate without other restrictions, like physical distancing and capacity limits,” the department said in a news release.',\n",
              " 'The Delta variant was first detected in India and is now circulating widely in many countries.',\n",
              " 'Cases of Covid-19 and the more contagious Delta variant are rising in some parts of the US, particularly where vaccination rates are low.',\n",
              " 'The variant could quickly become the dominant version of the virus in the US, CDC Director Rochelle Walensky has warned.',\n",
              " 'With more than 10 million residents, Los Angeles county is the most populous county in the United States.',\n",
              " 'Nearly 68% of county residents over the age of 16 have received at least one dose of the coronavirus vaccine, according to county data, and 59% have been fully vaccinated.',\n",
              " 'The county experienced a massive wave in Covid-19 cases and deaths over the winter.',\n",
              " 'To date, the county has recorded more than 1.',\n",
              " '2m cases and more than 24,000 deaths.',\n",
              " 'The recommendation comes as recent data has shown that the pandemic in LA county continues to have an unequal impact on certain communities of color, with Black residents contracting Covid and requiring hospitalization at more than twice the rate of white residentsEngland’s chief medical officer, Prof Chris Whitty, has been harassed four times in recent months, including by anti-lockdown protesters, prompting growing concerns for his safety.',\n",
              " 'There are calls for Whitty to get police protection following the latest incidents over the weekend when he was targeted in a Westminster park on Sunday, a day after demonstrators gathered outside what they thought was his home and shouted “murderer”.',\n",
              " 'The prime minister, Boris Johnson, said he was “shocked at seeing the despicable harassment”, while the home secretary, Priti Patel, criticised the “terrible” behaviour directed at a “remarkable public servant” who is one of the most senior government officials tackling the Covid crisis.',\n",
              " 'Sajid Javid, the new health secretary, also called the abuse “appalling and totally unacceptable”.',\n",
              " 'Whitty is understood to have dismissed the park incident as “schoolboy behaviour” and said he would not have told anyone if the footage had not already spread online.',\n",
              " 'He has not commented publicly but is said not to want to take the matter any further.',\n",
              " 'The Metropolitan police confirmed that officers spoke to Whitty after the park incident and checked on his welfare but that he did not want to make any allegations and went on his way.',\n",
              " 'The force added in a statement: “Officers continued to speak to the two men and recorded their details.',\n",
              " 'They were robustly warned about their behaviour and ordered to leave the area”.',\n",
              " 'But the vaccines minister, Nadhim Zahawi, has called for the “thugs” to face charges.',\n",
              " 'Video of the incident showed two people filming in selfie mode appearing to manhandle Whitty, while he struggled to get away.',\n",
              " 'The scientific adviser managed to duck his head under an arm of one of the men holding on to him.',\n",
              " 'As he tried to walk away a man could be heard saying: “Just one photo, please,” while another said: “One photo, mate”.',\n",
              " 'The men then pulled him back towards them, putting their arms around him as he again attempted to get away.',\n",
              " 'On Saturday, a group gathered outside what they thought was Whitty’s central London flat, blasting horns and shouting through megaphones from across the street.',\n",
              " 'A Tory MP, Andrew Bridgen, called for Whitty to be offered police protection, and said politicians rather than advisers “should face the public”.',\n",
              " 'Jim McMahon, Labour’s shadow transport secretary, backed the idea – saying he was surprised Whitty had been walking from building to building alone.',\n",
              " '“He is a very senior member of the civil service, he’s been very public facing,” McMahon told Sky News.',\n",
              " '“We know people who are anti-vaccination, people who don’t believe Covid is real … they do turn a lot of that anger towards Chris Whitty”.',\n",
              " 'Patel said she was “horrified by what has happened to Chris”, telling Times Radio: “The police are involved as well and we’re speaking to Chris to look at what we can do to support him”.',\n",
              " 'She suggested he could be offered police protection.',\n",
              " 'When asked if he needed it, Patel said: “It’s important we make sure that Chris is given the right kind of support.',\n",
              " 'It is terrible to see such an important public figure – someone that day in, day out has been serving our country in the way in which he has to keep us safe – being subject to such appalling abuse”.',\n",
              " 'The two events last weekend came after Whitty was followed down a street by a prominent anti-vaccine activist who yelled at him and called him a “liar”.',\n",
              " 'In February he was also called a “liar” multiple times while waiting for a takeaway lunch at a street food stall, prompting condemnation when the footage emerged.',\n",
              " 'Last week, Whitty’s deputy, Jonathan Van-Tam, was confronted in the street outside the Ministry of Defence building by an anti-vaccine activist who accused him of poisoning Matt Hancock.',\n",
              " 'Footage of the incident, which was shared on Facebook, shows the activist following him and yelling at him.',\n",
              " 'Downing Street condemned the abuse, calling it “appalling behaviour”.',\n",
              " 'Schoolchildren in England may no longer have to self-isolate after coming into contact with someone who is Covid positive, ministers are expected to announce.',\n",
              " 'The current system of “bubbles” of pupils – who quarantine at home if one of them is found to be infected by Covid – is likely to be replaced by testing.',\n",
              " 'Last week was the most disrupted week since schools fully reopened in March, when nearly 400,000 pupils missed school because of coronavirus infections, self-isolation or school closures.',\n",
              " 'Three parents and three school staff share their views about the expected changes.',\n",
              " '‘We have very little idea about what impact Covid could have on children’s health’  John Russell, parent.',\n",
              " 'Photograph: John Russell  Cases in schools were up last week and lateral flow tests are not reliable enough, and on their own they will not stop further infections.',\n",
              " 'It will be a disaster.',\n",
              " 'Covid will spread faster than the test can be conducted and action taken.',\n",
              " 'We have very little idea about what impact Covid could have on children’s health in the long term and how many children could end up with long Covid as a result.',\n",
              " 'This is a very high-risk, haphazard game of Russian roulette our government is playing with our children’s health.',\n",
              " 'Our children are not guinea pigs and I am frankly sick of having to protect them and my family from the government’s callous incompetence.',\n",
              " 'John Russell, 49, parent and photographer, London  ‘Long Covid is a worry but in the grand scheme of things the past year has done a lot of damage to children already’  Maddy Nicholass, parent.',\n",
              " 'Photograph: Maddy Nicholass  I am so relieved there are plans to end this injustice.',\n",
              " 'Children have been made to carry an enormous social burden throughout the pandemic, with their lives being turned upside down.',\n",
              " 'I have been so angry in recent weeks to see endless articles about whether people can have a summer holiday, meanwhile thousands of children are once again being shut in at home missing out on vital social contact and education.',\n",
              " 'Long Covid is a worry but in the grand scheme of things the past year has done a lot of damage to children already.',\n",
              " 'Even older ones have been affected with their education being piecemeal and interrupted – the impact of that is massive.',\n",
              " 'When our two daughters, three and four, have been sent home to self-isolate because they’ve come into contact with a positive case, me and my husband have ended up working late into the night as we’ve spent the day juggling the children.',\n",
              " 'I am on tenterhooks now to see if the proposed plans to test daily will definitely replace isolation of entire year groups, and will be keeping everything crossed.',\n",
              " 'Maddy Nicholass, 33, parent and finance manager, Dorking  ‘I worry about the effect time out of school will have on their mental health in the future’  This year was horrible – my two children, aged nine and 10, lost months of schooling and at such a young age they need it.',\n",
              " 'In January there were a few times they were sent home from school for two weeks to self-isolate.',\n",
              " 'Every time it happens they get very upset.',\n",
              " 'They’re actually at home self-isolating at the moment.',\n",
              " 'As a parent who is working from home, I can’t focus on work and helping them with their school work.',\n",
              " 'It’s not just their education that’s affected but they need to be able to socialise too.',\n",
              " 'I worry about the effect all this time out of school will have on their mental health in the future, and I think I will have to hire a tutor so they can catch up on lost time.',\n",
              " 'Though testing is better than self-isolating, I’m not sure how schools will test all children every day.',\n",
              " 'Nadez, 34, parent and web developer, London  ‘Some children at my primary school don’t have the space, equipment or family support for home learning’  Helen Coulthard, school speech and language therapist.',\n",
              " 'Photograph: Helen Coulthard  I’m very worried about the new proposals.',\n",
              " 'My husband and I are both double vaccinated but have caught Covid from our 24-year-old son two days after his first vaccine this week.',\n",
              " 'Thankfully, neither of us was at work that day.',\n",
              " 'We had PCR tests on Wednesday, which were both negative, but we developed symptoms this weekend and have now tested positive.',\n",
              " 'Without self-isolation, I would have been in school all week.',\n",
              " 'My son has become more ill than I’ve ever known him to be over the last 10 days.',\n",
              " 'Of course I don’t want young people self-isolating.',\n",
              " 'Some children at my primary school don’t have the space, equipment or family support for home learning.',\n",
              " 'Another problem is the logistics of testing in school.',\n",
              " 'Our reception class is currently self-isolating as an adult tested positive.',\n",
              " 'Would we be expected to test them?',\n",
              " 'The testing on return from lockdown in March at a local high school was a mammoth task.',\n",
              " 'They currently have a whole year group out of school, which would then mean up to 250 students to test daily.',\n",
              " 'Schools just don’t have spare capacity for that amount of testing.',\n",
              " 'Helen Coulthard, 59, primary school speech and language therapist, Lichfield, Staffordshire  ‘I don’t think onsite testing would be at all effective’  Lateral flow tests were never meant to be used as green light tests but only as red light tests, meaning you shouldn’t take a negative result as proof that one isn’t infectious.',\n",
              " 'The reliance on them is scary.',\n",
              " 'My school has an outbreak at the moment with 31 confirmed cases in the past week.',\n",
              " 'I don’t think onsite testing would be at all effective.',\n",
              " 'Schools are clearly breeding grounds for the virus and reducing safety measures seems ridiculous.',\n",
              " 'As much as we try with social distancing and masks, I have classes of 36 students sat side by side – we just can’t keep them apart enough.',\n",
              " 'I’m a single parent of a two-year-old and I wouldn’t want to bring Covid home as it would be very difficult.',\n",
              " 'It does make me nervous.',\n",
              " 'Lauren, 42, secondary school teacher, Northamptonshire  ‘We seem to be making schools more hazardous places’  I’m concerned because we seem to be pursuing the strategy of herd immunity through infection of children.',\n",
              " 'I’m very fortunate, I’ve been double vaccinated and my children have received one dose, but if my children were 11-16 (the age of children in the school I work in), I would be very worried about them.',\n",
              " 'There doesn’t seem to be much about long Covid and the effects it will have, but we do know it exists and it can have a debilitating effect.',\n",
              " 'It feels like we’re putting children in the firing line.',\n",
              " 'There’s so much we can do to make schools safer, easy things like bring masks back in classrooms, but we seem to just be making them more hazardous places.',\n",
              " 'It’s absolutely crazy.',\n",
              " 'Sophie*, 50s, secondary school teacher, Midlands  *Name has been changedGaby Hinsliff (No one should be penalised if they want to carry on working from home, 25 June) fails to mention the numerous arguments against full-time home working used by proponents of returning to the office, such as the damage that home working does to trainees relying on face-to-face coaching and the decline of town and city centres, which puts at risk thousands – perhaps even hundreds of thousands – of jobs that depend on office workers.',\n",
              " 'One of the worst effects of home working that might change Ms Hinsliff’s rose-tinted view is the severe inflation in house prices caused by city and town dwellers selling their relatively expensive homes and buying in the countryside.',\n",
              " 'Or, worse, buying or renting second homes, and thus exacerbating the severe housing shortage and making it impossible for locals to get their feet on the property ladder or even to rent something half decent.',\n",
              " 'Getting people back into the office for the majority of the working week should be a government priority.',\n",
              " 'Hugh Brass  Rendcomb, Gloucestershire10:30  It is notable that Nicola Sturgeon – who has throughout the pandemic taken a slow and cautious approach, often contrasted favourably with counterparts elsewhere in the UK – said this afternoon that she was “hopeful” that she would be able to continue with the planned easing of restrictions on 19 July and 9 August despite the steep rise in cases over the past week.',\n",
              " 'After Scotland’s health secretary blamed the Euros for some of this increase, Sturgeon revealed that data showed a peak in cases last Tuesday (when cases are measured by when the specimen was taken, not when the result was reported) and what appeared to be a slowing down of the increase in cases since then.',\n",
              " 'With 80% of new cases among the under-44s and just 2% in the over-65s, she made the point that the nature of this wave is very different in terms of those affected and the impact of the vaccine.',\n",
              " 'Asked why it is that rates have risen so steeply in Scotland in recent weeks, in comparison to the rest of the UK, she pointed out that the Delta variant was first seeded into Glasgow, the country’s biggest city, and so was able to spread more quickly than elsewhere in the UK.',\n",
              " 'She also reminded viewers that Scotland has lower population immunity because fewer people had the virus in earlier waves, thus there is a larger “susceptible population”.',\n",
              " '(See 3.',\n",
              " '10pm.',\n",
              " ')The British 5,000m runner Andrew Butchart could miss the Olympics after seemingly claiming he faked a negative Covid test to get back into Britain after a race.',\n",
              " 'A UK Athletics investigation was launched on Tuesday, 33 minutes after he was named in the Team GB squad for Tokyo, when his comments to Sunday Plodcast about how to circumvent a PCR test came to light.',\n",
              " 'The UK Athletics head coach, Christian Malcolm, later warned Butchart that “all options remained on the table” – including being withdrawn from the British team – subject to what the investigation found.',\n",
              " '“We take this matter very seriously,” said Malcolm.',\n",
              " '“We’ve just got to wait for what the investigation is, and whatever the consequences – if it doesn’t work in his favour – will be.',\n",
              " 'But all options are on the table at the moment”.',\n",
              " 'Malcolm confirmed a decision would be taken by 7 July, the latest date that the British team could be changed.',\n",
              " '“I think the important thing is trying to investigate and find out what really happened, what really was said, what was meant by it,” he said.',\n",
              " '“So we just have to wait for the findings”.',\n",
              " 'The investigation came after Butchart, who finished sixth at the 5,000m at the Rio Olympics, spoke about what he had done to allow himself to return to Britain from a race abroad.',\n",
              " '“I’m not going to get in trouble from the police or anything like that,” said Butchart.',\n",
              " '“You have to get a Covid test to get into the UK, so you went to a place to get a PCR test before 48 hours – and I’m with check-in and I don’t have my PCR test back.',\n",
              " 'So you have to quickly, like, get an old PCR test, go on to Instagram, fucking scribble out the time and the date, change the time and the date, and change it so you can get into the country.',\n",
              " 'Obviously Covid is huge but it’s quite annoying.',\n",
              " 'Everybody has faked PCR tests, I’m sure, to try and go somewhere, because it’s just so hard”.',\n",
              " 'After being alerted to Butchart’s comments in the podcast, which has now been deleted, UKA launched an investigation and hinted that his selection for Tokyo was now in the balance.',\n",
              " '“Throughout the pandemic elite sport has been privileged to receive exemptions from various guidelines to enable athletes to continue to train and compete,” the governing body said.',\n",
              " '“We take very seriously any suggestion that an athlete has not followed these guidelines correctly and broken any Covid-related protocols.',\n",
              " 'As a result, this selection will stand subject to further investigation by UK Athletics”.',\n",
              " 'Jessica Turner during the athletics kit session for the Tokyo Olympics at the Birmingham NEC on Tuesday.',\n",
              " 'Photograph: David Davies/PA  It is understood there is anger across the sport at Butchart’s comments, as it could damage the perception in Japan about Team GB athletes.',\n",
              " 'It also comes at a delicate time given Britain is one of 10 countries whose athletes and journalists are subject to more strenuous restrictions in Japan because of the spread of the Delta variant.',\n",
              " 'On Tuesday, Butchart rowed back on his comments, telling the Times: “I never faked it, the test came through in time, but I’ve heard rumours of others faking tests”.',\n",
              " 'He later said in a statement: “I have never falsified a PCR test and have always complied with the guidelines of the countries I have been travelling in.',\n",
              " '“I perhaps glorified the situation for the podcast but I apologise if it came across the wrong way or caused any offence to anyone, in particular Team GB and the Japanese Organising Committee, who I know are working so hard to make the Games safe for everyone”.',\n",
              " 'Meanwhile UK Athletics has announced a further 65 athletes would be going to Tokyo, taking the team up to 72.',\n",
              " 'They include Dina Asher-Smith, who will run in the 100m and 200m, and Laura Muir, who is doubling up in the 800m and 1500m.',\n",
              " 'The world heptathlon champion, Katarina-Johnson Thompson, is also in the team despite not competing this year because of a serious achilles injury.',\n",
              " '“KJT has been back for several weeks, months, now training so for her she will be doing a competition within the next week or so in Montpellier,” said Malcolm.',\n",
              " '“That’s when she will be able to prove her fitness.',\n",
              " '“I did speak to her this morning and she is really happy with her progression, training and where she is at.',\n",
              " 'She is really comfortable.',\n",
              " 'Mentally she seems in a really good space”.',\n",
              " 'The Scottish first minister has said she thinks there is a link between Scotland fans travelling for Euro 2020 games and the rise in Covid cases in Scotland.',\n",
              " 'Asked if the Scottish government should have done more to stop fans travelling to matches, Sturgeon denied taking a soft approach.',\n",
              " 'She added the government could not stop fans without tickets travelling to Wembley.',\n",
              " 'Public Health Scotland will be doing more analysis of this, she said  Ministers have been accused of making a “mockery” of quarantine rules after it was announced some business executives travelling to England will be able to temporarily leave self-isolation.',\n",
              " 'Rules for those arriving from amber list countries have been changed to let visitors entering the country bringing “significant economic benefit” interrupt their up to 10-day stay at home for important business activities.',\n",
              " 'The business secretary, Kwasi Kwarteng, is understood to have backed the change, which was announced on Tuesday, due to concerns the UK was missing out on major investments and new jobs because of current quarantine rules.',\n",
              " 'Executives working at multinational and international companies who want to use the exemption must get written permission from the government in advance of their journey, and must still get a negative Covid-19 test result before departing, get tested again when they arrive in England and complete a passenger locator form.',\n",
              " 'To be eligible, they must show their work in the country would probably preserve an existing UK-based business with at least 500 employees, or create a new one within two years.',\n",
              " 'Any executives conducting work that can be done by telephone or remotely will not be eligible.',\n",
              " 'All meetings must be Covid-secure and bosses must return to their self-isolation afterwards.',\n",
              " 'A government spokesperson said quarantine would only be waived in “truly exceptional circumstances” and claimed many other countries had introduced similar policies.',\n",
              " 'The decision came on the same day the UK reported another 20,479 Covid cases and 23 deaths.',\n",
              " 'This was a doubling of last Tuesday’s figures, 11,625, but also four fewer deaths.',\n",
              " 'The exemption used to apply to executives at businesses with just 50 staff – so the threshold has been significantly raised to stop abuse by those working at smaller companies.',\n",
              " 'It was suspended in January, when England went into its third national lockdown.',\n",
              " 'Angela Rayner, Labour’s deputy leader, tweeted that “this just takes the pi**”.',\n",
              " 'She said: “It is the lowest-paid working people who have got our country through this crisis, risking their lives on the frontline.',\n",
              " 'This is an offensive slap in the face for them and shows this government’s true colours.',\n",
              " '“Yet again it is one rule for those at the top and another for everyone else.',\n",
              " 'This makes a total mockery of the sacrifices of the British people during this pandemic and this double standard is an insult to frontline workers that the British people will rightly be disgusted by”.',\n",
              " 'Sorry for the unparliamentary language but this just takes the pi**.',\n",
              " 'It is the lowest paid working people who have got our country through this crisis, risking their lives on the frontline.',\n",
              " \"This is an offensive slap in the face for them and shows this government's true colours.\",\n",
              " 'https://t.',\n",
              " 'co/OO3CFmfOcB — Angela Rayner (@AngelaRayner) June 29, 2021  Other senior Labour figures expressed similar sentiments.',\n",
              " 'Andy Burnham, the mayor of Greater Manchester, said it was the “wrong move at the wrong time”.',\n",
              " 'Paula Barker, the Labour MP for Wavertree, said it was proof of the “same old Tories’” behaviour of “one rule for themselves and their elite friends, another for everyone else”.',\n",
              " 'Nick Timothy, a former No 10 co-chief of staff to Theresa May, said: “It’s time to get back to normal for everyone, not just elites”.',\n",
              " 'Bosses hoping to use the loophole to attend a routine board meeting will be disappointed as the government has said this is “ineligible activity”.',\n",
              " 'But a meeting to make a decision on whether to invest in a new UK division could be accepted.',\n",
              " 'Business leaders have been primarily carrying out activities remotely during much of the pandemic.',\n",
              " 'Airlines have been pushing hard for restrictions on international travel to be eased because sales of business-class and first-class seats – which generate the biggest profits – have plunged as companies adopt remote working.',\n",
              " 'Industry groups gave the quarantine change a lukewarm welcome, but said far more needed to be done to revive international business travel and trade.',\n",
              " 'Matthew Fell, UK policy director of the CBI, said it was a “step towards taking the pragmatic and truly risk-based approach needed for business travellers in the coming months”.',\n",
              " 'But he added: “It must not be forgotten that there is also a clear need for business travel beyond entrepreneurs and senior industry leaders and many firms will still be crying out for greater ease of movement to oil the wheels of the economic recovery”.',\n",
              " 'The Institute of Directors chief economist, Tej Parikh, said it was important that there were efforts to restore normality but other firms should not be overlooked.',\n",
              " '“Medium-sized enterprises will be the powerhouses of our economic recovery, so initiatives that effectively lower quarantine requirements for executives in large businesses seem arbitrary”.',\n",
              " 'At least one in 20 children were absent from state schools in England because of Covid within the last week, as official figures reveal a 66% increase in the number of pupils with confirmed coronavirus infections.',\n",
              " 'The data, compiled by the Department for Education (DfE), means that last week there was the most disruption to education since schools fully reopened in March, with nearly 400,000 children and young people out of school for Covid-related reasons.',\n",
              " 'The statistics show that on 24 June there were 15,000 children recorded as absent with confirmed Covid-19 cases, compared with 9,000 the week before.',\n",
              " 'The number of suspected cases also shot up, from 16,000 to 24,000.',\n",
              " 'The bulk of those off school, according the DfE figures, were self-isolating because of close contact with confirmed or suspected cases.',\n",
              " 'A total of 279,000 were self-isolating because of contacts within school, a jump of more than 100,000 in the space of a week, while a further 57,000 were self-isolating after contacts in the community.',\n",
              " 'Overall 5% of state school pupils and students in England were absent at the end of last week, more than four times the proportion of those off just two weeks before.',\n",
              " 'Paul Whiteman, the general secretary of National Association of Head Teachers, said: “Leaders are reporting that this is having a real impact in their schools, and that the level of disruption is now very high.',\n",
              " 'The government simply does not appear to have a grip on this situation and there is a real concern that we will continue to see these numbers continue to rise in the coming weeks”.',\n",
              " 'Whiteman said schools were operating under “enormous pressure”, and called for the government to review the use of face masks and increased ventilation in schools.',\n",
              " '“We also need to remember that some younger teachers will not have had both their vaccinations yet and the mitigations in place in schools remain extremely important for the whole community,” Whiteman said.',\n",
              " 'Gavin Williamson, the education secretary for England, said he was “looking closely” at the use of self-isolation.',\n",
              " '“The vast majority of children and young people are in school but I am aware that sadly a minority are experiencing disruption at the moment,” Williamson said after the new figures were released.',\n",
              " '“While pupils who are self-isolating are being immediately provided with high-quality remote education, we know that the best place for children is in the classroom.',\n",
              " 'That is why I am working with the health secretary, alongside scientists and public health experts, to relax Covid measures in schools in line with wider work to remove restrictions across society”.',\n",
              " 'Nick Gibb, the schools minister for England, earlier said the government was looking at replacing self-isolation for entire classes or bubbles with daily rapid testing when schools returned in September.',\n",
              " 'The proposal is said to rest on a trial designed to assess the impact of using daily lateral flow tests.',\n",
              " 'Williamson added: “I’ll be looking closely at the issues around the need for ongoing isolation of bubbles and the outcomes of the daily contact testing trial, as we consider a new model for keeping children in education”.',\n",
              " 'However, scientists are warning that daily testing alone – with a negative lateral flow test allowing pupils to attend school – would be an inadequate response to outbreaks.',\n",
              " '“This is a classic case of dealing with the symptoms, not the cause,” said Stephen Reicher, a participant in the Sage subcommittee advising on behavioural science.',\n",
              " '“If the government was really concerned with the disruption to schools they would do much, much more to stop infection occurring in the first place”.',\n",
              " 'Instead, the government had been removing mitigatory measures such as face masks, Reicher noted.',\n",
              " 'Since 17 May, secondary pupils have not been required to wear masks in classrooms, although the DfE advises that local authorities can decide to reintroduce them in response to local outbreaks.',\n",
              " 'Prof John Edmunds, an epidemiologist at the London School of Hygiene and Tropical Medicine and a member of Sage, said that although the group self-isolation policy may have worked in the past, it was very disruptive, particularly as cases increased.',\n",
              " '“Vaccination of schoolchildren would be a far better method for reducing transmission in school without disruption, but we need to be sure that the vaccines are safe enough to use in children before considering this option,” Edmunds said.',\n",
              " 'Earlier this month the Medicines and Healthcare products Regulatory Agency (MHRA) extended the UK approval of the Pfizer/BioNTech vaccine for 12- to 15-year-olds.',\n",
              " 'However, the government is still waiting for final advice from the Joint Committee on Vaccination and Immunisation on whether to vaccinate under-18s.',\n",
              " 'Gibb said results of the daily Covid testing trials were expected imminently.',\n",
              " 'But some scientists are wary these plans appear to have pre-empted the results of the trial.',\n",
              " '“It is remarkable that the government is trailing how it will respond to the trials before we have seen the results of the trials and suggests that … these are merely a fig leaf for a political decision that has already been taken,” said Reicher.',\n",
              " 'Scientists have also raised serious concerns about the lateral flow tests and the trial itself.',\n",
              " 'Robert West, a participant in the behavioural science subgroup of Sage, said he hoped those running the trials “will make a public statement that the government must not use any findings as a basis for policy until they have been comprehensively reported and subjected to detailed, fully independent review by scientists”.',\n",
              " 'The authorisation of lateral flow tests by UK authorities does not extend to their use as “green light” tests, where negative results would permit certain activities.',\n",
              " 'Dr Kit Yates, a senior lecturer in mathematical biology at the University of Bath, said the MHRA recommended that isolation should continue among contacts even after a negative result.',\n",
              " 'Ireland has delayed the reopening of indoor hospitality and plans to limit indoor dining to people who have been fully vaccinated against Covid-19.',\n",
              " 'The government announced the changes on Tuesday after health officials warned of a possible wave of infections and deaths driven by the Delta variant.',\n",
              " 'Cafes and restaurants were due to resume indoor hospitality – accessible to everyone – on 5 July.',\n",
              " 'Instead, the sector will reopen at a later date, yet to be decided, and be limited to customers who can prove they have been vaccinated or have had coronavirus within the past nine months.',\n",
              " '“We are in a race between the variant and vaccine .',\n",
              " '.',\n",
              " '.',\n",
              " 'and we want to do everything we can to ensure the vaccines win,” said the taoiseach, Micheál Martin.',\n",
              " 'Ireland is one of the only countries in Europe to retain a ban on indoor hospitality.',\n",
              " 'Its decision to limit access to those who are vaccinated or recovered from infection follows a similar move by several countries including Austria, Germany, Cyprus, Denmark and Latvia.',\n",
              " 'Delaying the resumption of indoor dining had been widely expected but the decision to limit access to certain categories came with little warning and created a sense of disarray within government.',\n",
              " 'Martin made the announcement without any plans for certification, monitoring or enforcement, prompting some hospitality industry representatives to label the rules unworkable.',\n",
              " 'The health minister, Stephen Donnelly, said officials would work “urgently” with business owners to create a plan.',\n",
              " 'A gradual relaxing of restrictions has not produced a rise in infections and 40% of the population are fully vaccinated.',\n",
              " 'However, optimism that Ireland was on track for the next phase of reopening evaporated when the National Public Health Emergency Team (NPHET) warned there could be a surge in infections if an outbreak of the Delta variant coincided with relaxations in the coming weeks.',\n",
              " '“Up until now it was the policy of NPHET and government not to have vaccine passes.',\n",
              " 'Delta has changed that,” said Leo Varadkar, the deputy prime minister.',\n",
              " 'Under the worst-case scenario, Ireland, with a population of just under 5 million, would have 1,740 deaths in September with 1,200 people in intensive care, overwhelming hospitals.',\n",
              " '“The increased risk of onward transmission associated with this variant makes a significant fourth wave of infection likely.',\n",
              " 'What is uncertain is the magnitude of this fourth wave,” said the emergency team.',\n",
              " 'The government, stung by memories of January when Ireland had the world’s highest infection rate, bowed to the public health advice in a cabinet meeting on Tuesday morning.',\n",
              " 'Martin said a date for the resumption of indoor dining would have to wait for a plan that is to be drawn up by 19 July.',\n",
              " '“The best way to ensure and protect sustained social and economic progress is to continue to keep the virus under control.',\n",
              " 'Today’s adjustment to our plan is another twist in our story, but our direction of travel is unchanged.',\n",
              " 'We are emerging from the pandemic.',\n",
              " 'We are coming out of this”.',\n",
              " 'Indoor dining at hotels and guesthouses resumed on 2 June but solely for overnight guests.',\n",
              " 'Other relaxations are going ahead.',\n",
              " 'From 5 July the number of people allowed at weddings will double from 25 to 50 and numbers of spectators at sports grounds can reach 200 or up to 500 at certain venues.',\n",
              " 'On 19 July, Ireland will permit international travel under the EU digital Covid certificate.',\n",
              " 'Critics of limiting indoor dining to the vaccinated said it would violate equality legislation and be unworkable, especially since restaurants tended to employ younger, unvaccinated people.',\n",
              " '“They have come up with this plan at the 11th hour of the 11th hour with absolutely no planning.',\n",
              " 'We have had a number of setbacks in this industry and this is another one,” said Adrian Cummins, the chief executive of the Restaurants Association of Ireland.',\n",
              " 'The former education catch-up tsar has criticised the government’s recovery plan for pupils in England, calling it “feeble” and warning against what he described as a growing complacency that children will recover naturally from the impact of the pandemic.',\n",
              " 'Sir Kevan Collins, who resigned from his post last month, told MPs on the education select committee that a massive national effort was required to address the crisis in lost learning, not just “a bit of tutoring in the corner”.',\n",
              " 'He also said children in England, who have lost on average 115 days of face-to-face teaching during the pandemic, should not be made to wait for more funding to be made available as part of the government’s spending review in the autumn, as ministers have suggested.',\n",
              " '“The money must get into schools as soon as possible,” said Collins.',\n",
              " '“If we lose an academic year, I think that’s unacceptable.',\n",
              " 'We know what the issue is, and we know the implications for our children.',\n",
              " 'I couldn’t stand by and say there’s some kind of process you just have to wait for and hope you get the money in that process.',\n",
              " 'If the argument is strong enough, why wouldn’t you do it now?',\n",
              " '”  Collins’s evidence to MPs on Tuesday exposed his frustration and the scale of the disagreement between the government and the man it tasked to “recover every child in this parliament”, with the Treasury’s unwillingness to fund a longer school day a significant stumbling block.',\n",
              " 'The former education recovery commissioner said he wanted 10,000 schools that have been operating a shorter school day to be asked to extend to the average of 6.',\n",
              " '5 hours with trials in other schools adding an extra 30 minutes to the day to allow for additional tutoring after school, rather than pulling children out of class, and offer extra enrichment activities including competitive sport, art and drama.',\n",
              " 'He confirmed that he had proposed a package of measures to the government that would have cost up to £15bn, and felt he had no choice but to resign when ministers came back with a £1.',\n",
              " '4bn package, which “just wasn’t enough to deliver the kind of recovery we need”, plus a review of the length of the school day, which will report later this year.',\n",
              " '“We know our country responded in a way compared to some others which is quite frankly a bit feeble.',\n",
              " 'The amount of money we are spending at the moment, these are significant sums, but this scale of shock … requires a massive national effort to recover,” said Collins.',\n",
              " 'MPs were told that children in England were getting an estimated £310 in catch-up funding per pupil, compared with £2,100 for each pupil in the Netherlands.',\n",
              " 'The government’s response to the Covid-19 crisis in schools would “set the course for the English education system for the next 10 years,” Collins said, warning that unaddressed it would lead to growing inequality.',\n",
              " 'Asked about Collins’s evidence to the education committee, Boris Johnson’s official spokesman said: “I think the public would accept that £1.',\n",
              " '4bn is a significant sum of money and comes on top of an additional £1.',\n",
              " '7bn.',\n",
              " '“Since coming to office, the prime minister has committed an additional investment in education totalling over £17bn.',\n",
              " 'But as has been said before, we will obviously keep the situation in our schools under review and consider what further steps may be necessary”.',\n",
              " 'Households increased their borrowing in May for the first time in eight months as the easing of lockdown rules coincided with a fall in loan interest rates.',\n",
              " 'Figures from the Bank of England showed the first significant credit spending surge since last August, as a run of net repayments by households came to an end in May when £280m more was borrowed on consumer credit than was repaid.',\n",
              " 'Car finance deals and a personal loans lay behind most of the increase, the central bank said, and came after the rates on new personal loans fell to 5.',\n",
              " '61%, compared with an interest rate of 7.',\n",
              " '03% in January 2020.',\n",
              " 'Credit card borrowers responded to a small increase in interest rates to 17.',\n",
              " '83% in May by cutting back their borrowing, though not by enough to offset the rise in people taking out car and personal loans.',\n",
              " 'Within the total figure, credit card lending remained low compared with pre-pandemic levels, with a net repayment of £101m.',\n",
              " 'The debt charity Stepchange said that some of the average rise in borrowing reflected the needs of poorer households who have suffered a loss of income during the pandemic.',\n",
              " 'It said 6.',\n",
              " '3 million people who experienced a fall in income had had to borrow to make ends meet – “a debt overhang that stands in sharp contrast to the experience of households who have been able to deleverage and save during the pandemic”.',\n",
              " 'The latest consumer credit figure marked a reversal from April, when a net repayment of £228m was recorded, reflecting households paying off more than they borrowed.',\n",
              " 'Laith Khalaf, a financial analyst at the stockbroker AJ Bell, said consumer borrowing was beginning to return to “the old normal”.',\n",
              " '“Latest trends in consumer spending show that old habits die hard, unless there’s a lockdown in force,” he said.',\n",
              " '“Borrowing is on the rise, and savings are falling back, as the lifting of social restrictions has prompted consumers to reach for their wallets.',\n",
              " '“After a long period of hibernation, it’s natural consumers are enjoying a bit of the old normal, and many have built up a sizeable war chest of savings over the course of the pandemic”.',\n",
              " 'Martin Beck, a senior economic adviser to the EY Item Club, said: “Consumers took advantage of the further relaxation of restrictions and greater opportunities for social consumption.',\n",
              " '“With many consumers having strengthened their balance sheets markedly during the pandemic, we expect to see rebounds in both spending and demand for credit”.',\n",
              " 'Sign up to the daily Business Today email  Separate figures for net mortgage lending bounced back to £6.',\n",
              " '6bn in May from a low in April of £3bn but were still much lower than the record £11.',\n",
              " '4bn in March.',\n",
              " 'The dip followed the delayed announcement by the government of an extension to the stamp duty holiday on homes worth less than £500,000 brought in the last year.',\n",
              " 'In a sign of future mortgage lending, the number of mortgage approvals made to homebuyers increased slightly in May to 87,500, from 86,900 in April.',\n",
              " 'Approvals have fallen from a recent peak of 103,200 in November, but remain above levels before February 2020.',\n",
              " 'We might not be close to a post-pandemic society but we are, at the very least, entering into a post-lockdown one.',\n",
              " 'The challenge facing us now is how to deal with the enormous loss of life we have collectively experienced, how to even begin to move on from something that has been traumatic for so many.',\n",
              " 'Lots of people have proposed some kind of formalised collective mourning, perhaps a permanent national memorial or day of remembrance.',\n",
              " 'But if we need a process of collective mourning (and I think we do), we also need collective joy: a national memorial service, followed by a raucous wake.',\n",
              " 'Collective joy, whether it takes the form of carnivals, festivals, protests, nightclubs, or Scottish football fans singing “you’re just a shite Rabbie Burns” at an unwitting statue of William Shakespeare, addresses a deep human need.',\n",
              " 'It has the power to cut through isolation, and make us feel part of something larger than ourselves.',\n",
              " 'Despite this, it’s hardly a prominent feature of modern life.',\n",
              " 'What little of it there is is often expensive and exclusive: think of the steel fences that enclose £100-day-ticket music festivals.',\n",
              " 'In the pre-industrial age, on the other hand, there was a feast day, carnival or festival just about every week.',\n",
              " 'According to the historian EP Thompson, “these occasions were, in an important sense, what men and women lived for”.',\n",
              " 'The difficulty is that over the past year, mass gatherings have understandably become tied up with anxieties about hygiene and disease.',\n",
              " 'As evidence mounts that outdoor gatherings aren’t a significant factor in transmission, and more people are vaccinated, the case for their prohibition is weakened.',\n",
              " 'But a certain censoriousness still hangs in the air.',\n",
              " 'This cultural mood stretches beyond people sitting at home on their computers and deriding others having fun with their friends as “antisocial”.',\n",
              " 'Earlier this year, in just one example of a nationwide spate of antisocial behaviour crackdowns, Primrose Hill park in London was locked up at night in order to deter “loud and disruptive parties”.',\n",
              " 'This measure was reportedly backed by Labour’s leader, Keir Starmer, which is entirely fitting given the recent noises his party has been making concerning “antisocial behaviour”, alongside its commitment to highlighting such social blights as teens hanging around on streets.',\n",
              " 'Even the “kill the bill” movement, which targets a proposed law that will restrict protest, meaning the stakes are arguably much higher, is fundamentally a battle about what people have the right to do in the streets.',\n",
              " 'Any attempt to control public space will never be enforced fairly: for some people, simply existing in public is considered an antisocial act.',\n",
              " 'This really is nothing new: elites have long feared the unruly crowd.',\n",
              " 'Today these age-old impulses are being filtered through the prism of Covid safety and lent a sheen of legitimacy they often don’t deserve.',\n",
              " 'The task we have now is figuring out how to disentangle reasonable concerns about public health from reactionary hostility to public gatherings.',\n",
              " 'If we fail to do this, the spectre of Covid will continue to be used as a pretext to limit the possibilities of collective joy, long after this is necessary, just at the time we need it most.',\n",
              " 'As much as I’d like to imagine that all of my preferred leisure activities are de facto politically useful, mass revelry isn’t always an act of resistance.',\n",
              " 'But the fact that it provides pleasure and meaning in people’s lives makes it a worthy enough end in itself.',\n",
              " 'And while it’s not quite right to say that collective joy is rebellious, it’s certainly true that joy forms an important part of political protest.',\n",
              " 'Just about every rally I’ve ever been to, no matter how serious the issue at hand, has featured singing, chanting and a powerful sense of fellow feeling.',\n",
              " 'The fact that a protest can be a fun day out is important, because there is no better cure for despair than marching through a city with thousands of other people who care about the same injustices as you.',\n",
              " '“Sometimes,” writes Lynne Segal in her book Radical Happiness, “the strength we gain from moments of joyful solidarity lasts a very long time”.',\n",
              " 'The possibility of collective joy is something worth fighting for, which doesn’t mean that attempts to do so will always be perfect.',\n",
              " 'Last weekend’s Save Our Scene rally brought thousands of people to the streets of London to defend the future of club culture and the nightlife industry.',\n",
              " 'The journalist Ed Gillett reported that, “it felt clumsy and half-baked in places … [with] flimsy ethical justifications for just wanting to get trashed, but [it was] undeniably powerful and resonant despite that”.',\n",
              " 'A better example might be London’s Trans Pride, which also took place last weekend, and saw thousands of members of a much-oppressed minority group take to the streets in a spirit of defiant celebration.',\n",
              " 'In an event like this, the dichotomy between “protest” and “party” becomes meaningless.',\n",
              " 'The ability to experience joy in the face of such hostility is in itself a courageous act.',\n",
              " 'While the language of antisocial behaviour often serves as a pretext for draconian policing, that doesn’t mean that no such thing exists.',\n",
              " 'No one wants to be kept up by selfish neighbours having all-night parties in the name of a post-pandemic knees-up.',\n",
              " 'But living in a society requires give and take.',\n",
              " 'We have to make a space for collective joy, for fun, for things that might look “antisocial”, but actually constitute the most social we ever truly are.',\n",
              " 'In the coming years, we will have to fight to reclaim public space, and I believe that civil disobedience, in the form of simply turning up and not asking permission, will have a role to play.',\n",
              " 'Sheffield’s Tramlines festival will go ahead as part of the UK government’s Events Research Programme (ERP), as uncertainty begins to ease around the viability of large-scale events for the rest of the summer.',\n",
              " 'Taking place on 23-25 July at a full capacity of 40,000 people, Tramlines will be Europe’s largest festival since the pandemic began, hosting headliners the Streets, Royal Blood and Richard Ashcroft in Hillsborough Park.',\n",
              " 'Tramlines, which is already sold out, joins another festival cleared to go ahead on that weekend, Latitude, announced as part of the ERP last week.',\n",
              " 'Organisers of Standon Calling festival, not part of the ERP but also scheduled for the same dates, have also said it will be going ahead.',\n",
              " 'They cited confidence after Sajid Javid, newly installed as health secretary, announced yesterday that easing of lockdown measures scheduled for 19 July would be “irreversible … the restrictions on our freedoms, they must come to an end”.',\n",
              " 'An end to restrictions would allow large-scale events to go ahead as normal.',\n",
              " 'Standon Calling organisers also pointed to data published by the government last week from its previous ERP events, that found only 28 cases of Covid among thousands of people there.',\n",
              " 'Some experts have been cautious about the findings, which are based on lateral flow tests rather than more reliable PCR tests.',\n",
              " 'Womad, the global music festival that had also been scheduled to begin on 22 July, was cancelled this week after organisers were unable to assure it going ahead.',\n",
              " 'Festivals have not been able to get insurance against Covid-related enforced cancellations, and risk financial ruin if they go ahead without it.',\n",
              " '“We feel that our audience, artists, staff and contractors, who have been amazingly supportive throughout all this, will understand the need for us to act to guarantee our survival,” Womad’s Peter Gabriel said.',\n",
              " 'The festival sector has long been calling on the UK government to underwrite festivals to let them continue as the pandemic eases, and Womad organisers also complained of a lack of “clarity on how what is being learned from the events research programme might affect the guidance for festivals and how they are required to operate”.',\n",
              " 'Despite Javid’s remarks, nervousness in the cultural sector remains high following previous postponements to easing measures, including in the nightclub industry which has been closed since the start of the pandemic.',\n",
              " 'Michael Kill, chief executive of the Night Time Industries Association, said he was “buoyed” by Javid’s assertion, but added: “He must make good on this now so that 19 July really is the terminus date – when we can open fully and experience culture again.',\n",
              " 'During this extended period of closure businesses and workers need to be supported through the extension of current government financial reliefs”.',\n",
              " 'Some doctors are telling young Australians to cancel their Covid-19 vaccine bookings and warning AstraZeneca will not be given to those aged under 40 because Scott Morrison’s comments on Monday do not accord with expert medical advice.',\n",
              " 'The prime minister blindsided doctors with yet another change to the government’s approach to AstraZeneca on Monday night, allowing those under the age of 40 to volunteer for the vaccine at GP clinics.',\n",
              " 'The Royal Australian College of General Practitioners said it was given “no warning” of the announcement and was “scrambling” to work out what it meant for patients, while the Australian Medical Association said it would continue to endorse the advice of the Australian Technical Advisory Group on Immunisation (Atagi) – that Pfizer was the preferred vaccine for under-60s.',\n",
              " 'The Queensland premier, Annastacia Palaszczuk, also encouraged governments to follow the Atagi advice, while both the Western Australian premier, Mark McGowan, and the Victorian health minister, Martin Foley, said that opening eligibility for AstraZeneca jabs to people under 40 was not a decision of national cabinet.',\n",
              " 'The confusing messaging, though, did not stop younger Australians like Jay Moran, of Canberra, from acting on long-held enthusiasm for the jab.',\n",
              " '“I was very confused about what [Morrison] said, I couldn’t work out whether or not he was telling me I was eligible or not,” Moran said on Tuesday.',\n",
              " '“But it became clear overnight and first thing this morning that that was a possibility, so the second the GP clinic I attend regularly opened, I called them”.',\n",
              " 'After some initial confusion from the GP clinic, Moran was able to book to receive an AstraZeneca vaccine on Wednesday.',\n",
              " 'She said she was excited to act on her “vaccine impatience”.',\n",
              " 'A screenshot of the email Jay Moran and her husband received late Tuesday  But late on Tuesday afternoon, she received an email from the clinic, which said it would not be providing anyone under the age of 60 the vaccine.',\n",
              " 'It asked her to cancel the appointment and rebook if the advice changed.',\n",
              " '“You have booked in to discuss the AstraZeneca vaccination based on the comments the prime minister made this morning [sic],” the email said.',\n",
              " '“The current advice from the Australian Technical Group on Immunisation is that AZ vaccine should be given to patients over the age of 60.',\n",
              " 'Pfizer vaccine is recommended for those under the age of 60.',\n",
              " '“We will be adhering to that advice and will not be giving AZ vaccine to those under the age of 60, so if you wish to cancel your appointment please do so.',\n",
              " 'You may rebook with us if this advice changes”.',\n",
              " 'Moran, who wanted the vaccine before travelling to a remote Indigenous community for research, said she was left “an absolute mess”.',\n",
              " '“I was so excited,” she said.',\n",
              " '“With no timeline for Pfizer for my age group, I feel particularly let down by the false hope”.',\n",
              " 'Her husband was booked in for an AstraZeneca dose with the same clinic.',\n",
              " 'He received the same email.',\n",
              " 'The pushback from doctors was not isolated.',\n",
              " 'Others on Twitter said they had received similar advice.',\n",
              " \"@MatildaBoseley My GP said they actually weren't able to give me an AZ vaccine due to TGA rules :( — William Yates (@yatesey1994) June 29, 2021  @matildaboseley tried booking online via Vic Dept of Health, to be told I'm not eligible (no medical conditions so the only reason could be age)https://t.\",\n",
              " 'co/m4DN8jgWcQ still lists older eligibility criteria — Mitch Grinter (@MichGrinter) June 29, 2021  The AMA told Guardian Australia it had not issued any directive to its members to cancel existing bookings for those under 40.',\n",
              " '“We’ve not put out any direction to members,” the AMA president, Dr Omar Khorshid, said.',\n",
              " '“We do support the Atagi position, but we also recognise that people can make their own health decisions.',\n",
              " '“It may just be that [the doctors] are trying to wait and get guidance because this announcement was a little bit out of the blue”.',\n",
              " 'Other young Australians, though, had no issue booking in for the AstraZeneca on Tuesday.',\n",
              " 'Sign up to receive the top stories from Guardian Australia every morning  Patrick Bignante, of Sydney, searched Google for nearby GP clinics, found one offering AstraZeneca, and booked immediately, managing to secure an appointment for Friday.',\n",
              " '“It’s been my intention to get vaccinated since the pandemic commenced, basically, because really the only way to get past this is to immunise oneself,” Bignante said.',\n",
              " '“As soon as what I call ‘the marketing guy’ came out last night and said ‘we’re opening it up to under-40s’, my first thought was ‘yeah, brilliant, I’ll book myself in’”.',\n",
              " 'Bignante has not been asked to rebook.',\n",
              " 'Patrick Bignante of Sydney has booked in for the AstraZeneca jab on Friday  GP clinics in Melbourne were also reporting a significant surge in demand.',\n",
              " 'Dr Shea Wilcox said his team in Brunswick East had vaccinated about 30 people aged under 40 on Tuesday and had another 50 booked for Wednesday.',\n",
              " '“There’s been strong interest from young people who are keen to be vaccinated,” he said.',\n",
              " '“We didn’t expect [the announcement], however I certainly welcome it and I feel like people in the younger age brackets will also feel quite relieved that they can now access these vaccinations”.',\n",
              " 'He said the Morrison announcement on Monday was “not as clear as we would have liked”.',\n",
              " '“There was still some uncertainty from people who were seeking further information from us today, which does put more of a load on us to explain,” he said.',\n",
              " 'Dr Matthew Cardone, a GP in Tweed Heads, said he had seen a slight uptick in appointments, but said that may have been driven by fears of the Delta variant.',\n",
              " 'He said his clinic had learned of the change “in real-time” as it appeared on the news.',\n",
              " '“It’s frustrating, we just need clear, early messaging so we can be prepared to pivot with the program as it evolves,” he said.',\n",
              " '“That’s not happening”.',\n",
              " 'Large parts of Queensland have begun a snap three-day lockdown, as the unvaccinated Covid-positive hospital worker whose travel from Brisbane to north Queensland triggered the harsh restrictions was confirmed to have the highly contagious Delta variant.',\n",
              " 'The state’s premier, Annastacia Palaszczuk, said the case was “very concerning” given the woman, who worked as a receptionist outside the Covid ward at Brisbane’s Prince Charles hospital, was potentially infectious for more than a week.',\n",
              " 'In that time she travelled from her home at Sandgate in Brisbane’s north to Magnetic Island.',\n",
              " 'On Sunday she visited markets in Townsville.',\n",
              " 'The state’s lockdown, which came into effect from 6pm on Tuesday, covers all of south-east Queensland – Brisbane, Ipswich, Lockyer Valley, Scenic Rim, Gold Coast, Sunshine Coast, Noosa, Redlands, Moreton, Somerset and Logan – as well as Townsville, Magnetic Island and the Indigenous community of Palm Island in north Queensland.',\n",
              " 'Queensland will now also move to dramatically cut the number of international travellers returning to the state, amid an ongoing row with the federal government about the need for a purpose-built quarantine facility.',\n",
              " 'The hospital worker was one of four new cases detected in Queensland.',\n",
              " 'Two were in hotel quarantine and one, a child from the Ipswich area, was linked to the Northern Territory outbreak.',\n",
              " 'Late on Tuesday, Palaszczuk confirmed the hospital worker had the Delta variant but it remained unclear how the she contracted it.',\n",
              " 'However, the woman’s work – where she was in close proximity to the Covid ward at the Prince Charles hospital in north Brisbane – had caused some concern.',\n",
              " 'If her infection stemmed from the hospital it would be the fourth instance where a Queensland hospital worker had contracted the virus within the hospital system, following three separate cases linked to the Princess Alexandra hospital.',\n",
              " 'Sign up to receive the top stories from Guardian Australia every morning  Those cases sparked concern that the virus could escape hospital wards and that people could be more susceptible outside, where they may be less vigilant.',\n",
              " 'Palaszczuk said several of the woman’s contacts – a close friend and two family members – were sick and in the process of being tested.',\n",
              " '“Despite the health directives that she should have been vaccinated, she was not,” Palaszczuk said.',\n",
              " '“Let me say, I am absolutely furious about this.',\n",
              " 'We need to make sure that we are getting our population vaccinated, right across the state.',\n",
              " '“This leaves us with no option.',\n",
              " 'There is a lot of contact tracing happening … so the risk is real and we need to act quickly.',\n",
              " 'We need to go hard and we need to go fast.',\n",
              " '“I want to say to everyone, I know we are in the middle of school holidays and I know people have made plans, but we have just got to do this”.',\n",
              " 'Queensland’s deputy premier, Steven Miles, said the continued large number of international arrivals was of concern.',\n",
              " '“Our international borders are supposed to be closed but every week thousands of people are allowed to travel,” he said.',\n",
              " '“These are putting our community at an unacceptable risk, especially with these new strains which cannot be contained.',\n",
              " '“We will now move to dramatically cut the number of international travellers permitted to return to Queensland,” Palaszczuk said.',\n",
              " 'A group of Australia’s Olympic swimmers has been caught up in Queensland’s outbreak.',\n",
              " 'While an Olympic swimmers training camp is being held in Cairns, there was a contingent of swimmers who had been in Townsville and Magnetic Island – areas which are under the snap lockdown – before travelling to Cairns on Tuesday.',\n",
              " 'The swimmers were tested on Tuesday, and will be kept separate from the larger cohort of swimmers gathered in Cairns while they observe the three-day lockdown period.',\n",
              " 'A Swimming Australia spokesperson said the swimmers were considered “low-risk contacts”.',\n",
              " 'Meanwhile, the Northern Territory has recorded two more Delta-variant coronavirus cases – the wife and daughter of a worker who left the Granites mine in the Tanami Desert on Friday.',\n",
              " 'The family, from Palmerston near Darwin, tested positive while in isolation at the Howard Springs quarantine facility.',\n",
              " '“We can’t be certain, but we are hopeful that the two new cases became infectious while isolating”, the chief minister, Michael Gunner, said.',\n",
              " 'There are now nine cases linked to the mine, which started when a Victorian man, who had travelled to the mine on 18 June via a Brisbane quarantine hotel, tested positive on Saturday.',\n",
              " 'Gunner said the two new cases attended a Zumba class in Palmerston between 9am and 9.',\n",
              " '30am on Saturday and it was now a close contact exposure site.',\n",
              " 'Portugal is the latest country to require travellers to be double vaccinated in order to avoid quarantining for two weeks on arrival.',\n",
              " 'Some have expressed concern that young people will be unable to travel to countries that older people who have been double jabbed will be able to.',\n",
              " 'We would like to hear form young people over the age 18 about your thoughts on double vaccinations and travelling abroad.',\n",
              " 'Are you still waiting to receive your second jab?',\n",
              " 'How do you feel about not being able to travel if you have not been fully vaccinated?',\n",
              " 'Share your experiences  You can get in touch by filling in the form below or via WhatsApp by clicking here or adding the contact +44(0)7766780300.',\n",
              " 'Your responses are secure as the form is encrypted and only the Guardian has access to your contributions.',\n",
              " 'One of our journalists will be in contact before we publish, so please do leave contact details.',\n",
              " 'If you’re having trouble using the form, click here.',\n",
              " 'Read terms of service here and privacy policy here.',\n",
              " 'When the government announced it was going ahead with the mandatory vaccination of staff in older people’s care homes in England, it wasn’t a surprise.',\n",
              " 'At least 40,000 care home residents have died of Covid-19 so far in England and Wales, along with hundreds of valiant workers.',\n",
              " 'Surely we have to do everything feasible to prevent these figures going even higher as a result of the Delta variant, or any future variants.',\n",
              " 'There’s no doubt that this is what the government is seeking to achieve in moving to a compulsory vaccination approach – it’s a defensive strategy, based on the fear of a challenging winter battling coronavirus, plus maybe seasonal flu, to come.',\n",
              " 'Yet I know that Age UK was by no means the only organisation with an interest in social care that did not express full-blooded support for the idea when responding to the government’s recent consultation.',\n",
              " 'Of course, it is in older people’s best interests for everyone who engages with them to be fully vaccinated, whether they live in a care home or their own home.',\n",
              " 'What we were less convinced about was whether compulsorily vaccinating this particular group of care staff, and doing it now, is the best way of getting there.',\n",
              " 'The big potential problem with going down the mandatory path is that it may cause some care home staff to move to another job they can do without having their Covid-19 jabs.',\n",
              " 'There is huge annual churn in social care, with as many as one in three staff leaving their roles.',\n",
              " 'Some quit care altogether but many go to another company, lured by better terms and conditions.',\n",
              " 'The fact that only staff members in care homes for older people are required to be vaccinated means that a worker could move to a care home helping young disabled adults, or into domiciliary care instead.',\n",
              " 'Or they could become a healthcare assistant in the NHS, where they will find better pay and prospects for doing an almost identical job – one or many problems that bedevil social care recruitment and retention.',\n",
              " 'The risk of some vaccine-hesitant care home staff leaving would matter much less if the care workforce was in better shape overall.',\n",
              " 'There are some 120,000 vacancies, so about one in 10 roles are unfilled.',\n",
              " 'Social care is the consummate “people job”, so the quality of care someone receives in a care home, for example, depends not only on the skills of the staff but on there being enough of them.',\n",
              " 'An older person with advanced dementia may require painstaking one-on-one support to eat and drink enough during the day.',\n",
              " 'If that’s impossible because of understaffing then they are at major risk of malnutrition and dehydration, threatening their health and even their survival.',\n",
              " 'One of the strongest arguments against mandatory vaccination, therefore, is that it risks making an already challenging workforce situation worse, with awful consequences for residents.',\n",
              " 'Remember, too, that these new regulations will hit temporary agency staff, on whom care homes have previously relied to fill gaps, as well as permanent workers.',\n",
              " 'This is not the only recent blow to the social care workforce.',\n",
              " 'Brexit and the immigration rules that the government subsequently introduced mean that, as things stand, care workers from the EU will be unable in future to come here to work.',\n",
              " 'There are anecdotal reports that Brexit has led to some existing EU care staff returning home.',\n",
              " 'Such staff are mostly clustered in London and other big cities, some of the places where vaccine hesitancy among staff is also known to be most prevalent – partly because there are greater numbers of black African staff who academic research have found to be considerably more averse to taking up the vaccine than their white British counterparts.',\n",
              " 'Care homes in these areas therefore potentially face a double whammy as regards staffing, if mandatory vaccination leads some workers to leave, on top of Brexit.',\n",
              " 'I could contemplate mandatory vaccination as a last resort, but I’m not sure that everything that could be done to encourage voluntary take-up among care home staff has been fully tried.',\n",
              " 'The NHS has run some excellent myth-busting webinars for care workers, but many will no doubt have missed out.',\n",
              " 'The experience to date is that hyper-local approaches, based on peer-to-peer support, really do work.',\n",
              " 'With the government announcing a 16-week grace period before the new regulations bite, I hope care homes and councils will work together to encourage every worker who is yet to take up their jab to do so, especially in those areas with the furthest to go.',\n",
              " 'This policy change would have landed so much better if it had been part of a funded package of reforms, designed to give care workers the professional respect they richly deserve, and pay and conditions to match.',\n",
              " 'It’s not impossible that this will come later in the year but, on its own, mandatory vaccination feels to me and many others like too much stick and not enough carrot for a workforce who have given their all and been through the fire these past 15 months, quite possibly with more to come.',\n",
              " 'An NHS hospital that upgraded the type of face masks used by staff on Covid-19 wards recorded a dramatic fall of up to 100% in hospital-acquired coronavirus infections among those workers, research shows.',\n",
              " 'Addenbrooke’s hospital in Cambridge upgraded the masks from fluid-resistant surgical masks (FRSMs) to filtering face piece 3 (FFP3) respirators, with the change made in late December in response to its own staff testing data.',\n",
              " 'Public Health England (PHE) had, until recently, recommended that healthcare workers caring for Covid-19 patients should use FRSMs as respiratory protective equipment.',\n",
              " 'PHE recommended that an FFP3 respirator should be used if an aerosol-generating procedure was being carried out, such as inserting a breathing tube into a patient’s windpipe.',\n",
              " 'Guidance has been updated recently to oblige NHS organisations to assess the Covid-19 risk to staff and provide FFP3 respirators where appropriate.',\n",
              " 'Addenbrooke’s has been testing staff for Covid-19 since the start of the pandemic, even when workers showed no symptoms.',\n",
              " 'Tests indicated that healthcare workers caring for Covid-19 patients were at greater risk of infection than staff on non-Covid wards, even when using the recommended respiratory protective equipment.',\n",
              " 'In response, the hospital’s infection control committee upgraded the type of masks used by staff on Covid-19 wards.',\n",
              " 'After the change in protective equipment, the incidence of infection on the two types of ward was similar.',\n",
              " 'The research has not yet been peer-reviewed, but is being released early because of the urgent need to share information relating to the pandemic.',\n",
              " 'Dr Chris Illingworth, from the MRC Biostatistics Unit at Cambridge University, said: “Once FFP3 respirators were introduced, the number of cases attributed to exposure on Covid-19 wards dropped dramatically – in fact, our model suggests that FFP3 respirators may have cut ward-based infection to zero”.',\n",
              " 'The call for better PPE comes as experts warned hospital acquired cases of Covid could continue to pose a challenge even after vaccination, after a study found outbreaks of the Delta variant among healthcare workers in three hospitals in India over a four-week period in April this year, despite many of those involved having received two Covid jabs.',\n",
              " 'The study, which has been released as a preprint, shows that in one hospital, 30 staff members among an overall workforce of 3,800 developed Covid with symptoms, with most of the infections involving the Delta variant – 11 were apparently linked to one “super-spreader” event.',\n",
              " 'In a second hospital, of 4,000 healthcare workers, there were 118 symptomatic infections and in a third hospital, of 1,100 healthcare workers, there were 70 symptomatic infections.',\n",
              " 'Again, the majority of those affected had the Delta variant.',\n",
              " 'The team add that clusters of more than two infected individuals were only found for the Delta variant.',\n",
              " '“The data we present is basically consistent with people who are vaccinated then passing [the infection] on to others,” said Prof Ravi Gupta, of the University of Cambridge, a co-author of the study.',\n",
              " '“Whilst vaccines will protect the healthy against severe disease in the community the Delta variant raises the possibility of severe illness in hospital settings where there are vulnerable patients,” he added.',\n",
              " 'The team say their findings highlight the need for infection control measures to continue in the post-vaccination era.',\n",
              " 'Dr David Strain, a senior clinical lecturer at the University of Exeter medical school, who was not involved in the research, agreed, noting that while a growing body of data shows vaccinations protect people against Covid, including severe disease, the new work highlights that there remains a risk of carriage and spread of the Delta variant in fully vaccinated individuals.',\n",
              " '“This would be particularly relevant for healthcare workers who have higher exposure to patients with the virus, and also have a higher potential of coming into contact with the extremely vulnerable for whom the 90% protection that vaccine offers still leaves them at risk,” he said.',\n",
              " '“Additionally, with this evidence that fully vaccinated individuals can now catch and spread the virus, albeit without getting sick, we need to be vigilant as to whether this puts people at risk of long Covid,”.',\n",
              " 'Saffron Cordery, the deputy chief executive of NHS Providers, said the findings were a reminder there is no room for complacency.',\n",
              " '“As we have seen, vaccines are breaking the link between infections, hospital admissions and deaths from Covid-19.',\n",
              " 'That is why it’s so important that as many people as possible who are eligible take them up,” she said.',\n",
              " '“But they are not a panacea, and trust leaders recognise the continuing importance of rigorous infection control, effective personal protective equipment, and social distancing in countering the spread of Covid-19”.',\n",
              " 'Amid chaos at the White House as the coronavirus pandemic worsened, Donald Trump took to referring derisively to the Covid taskforce chaired by his vice-president as “that fucking council that Mike has”.',\n",
              " 'The revelation about the president’s contempt for his key advisory body is one among many in a new book, Nightmare Scenario: Inside the Trump Administration’s Response to the Pandemic That Changed History, which is published in the US on Tuesday.',\n",
              " 'The Guardian obtained a copy.',\n",
              " 'Previous revelations from the book have included that Trump wanted to send infected Americans to Guantánamo Bay and that he mused about John Bolton, his national security adviser, being “taken out” by Covid.',\n",
              " 'Authors Yasmeen Abutaleb and Damian Paletta, both Washington Post reporters, also report in depth on how the extraordinary influence of “outside consultants” to Trump, including the controversial Stephen Moore, relentlessly undermined the work of the president’s scientific advisers.',\n",
              " 'The book is a deeply reported account of the beginning of a pandemic that has killed more than 600,000 in the US and a federal response hamstrung by incompetence and infighting.',\n",
              " 'Trump’s derisive term for his taskforce, the authors write, was “a signal that he wished it would go away” and “didn’t want anyone to exert leadership”.',\n",
              " '“Many on the taskforce didn’t want the responsibility either, fearful of the consequences”.',\n",
              " 'Under the chairmanship of Vice-President Mike Pence – who is shown resisting his own appointment to replace the outmatched health secretary, Alex Azar – the taskforce was led by Dr Deborah Birx, a US army physician widely praised for her role in the fight against Aids but whose star waned under Trump.',\n",
              " 'Abutaleb and Paletta portray Birx as a confident leader unafraid to challenge powerful men, but also someone who “overplayed her hand” when she decided to praise and flatter Trump as a way to manage him.',\n",
              " 'Of an interview Birx gave to the rightwing Christian Broadcasting Network, in which she praised Trump’s “ability to analyse and integrate data”, the authors write: “It was the kind of sycophancy one expected from Pence or [treasury secretary] Steve Mnuchin, not a government scientist”.',\n",
              " 'The authors also say Birx worked well with Pence and was admired by fellow workers, though by April 2020, the chief of staff, Mark Meadows, was deriding the taskforce as “useless and broken”.',\n",
              " 'Birx served until the end of the Trump administration in January this year.',\n",
              " 'Unlike her fellow taskforce member Dr Anthony Fauci, now chief medical adviser to Joe Biden, she did not remain in public service.',\n",
              " 'Abutaleb and Paletta also report that in March, as cases spiraled and the US death toll passed 1,000, unofficial adviser Stephen Moore, Trump’s “emissary [from] the conservative establishment … strode into the Oval Office to convince the president” to end shutdowns and get the economy moving.',\n",
              " 'Moore is an economist who in 2019 was nominated by Trump to the board of the Federal Reserve, only to withdraw after outlets led by the Guardian reported controversies in his past.',\n",
              " 'He told Abutaleb and Paletta Trump’s controversial and soon dropped promise to reopen the US economy by Easter was “the smart thing to do”, because “the economic costs of this are mounting and there’s not a lot of evidence that lockdowns are working to stop the spread”.',\n",
              " 'Lockdowns to stop the spread of Covid-19 remain in use around the world.',\n",
              " 'Moore is also quoted attacking Fauci, a common target for conservative ire over subjects including mask-wearing and the origins of Covid in China.',\n",
              " '“Fauci is the villain here,” Moore says.',\n",
              " '“He has the Napoleon complex, and he thinks he is the dictator who could decide how to run the country”.',\n",
              " 'Moore also says conservative activists he advised as they staged protests against lockdowns and masks – and who he famously claimed were successors of the great civil rights protester Rosa Parks – asked: “What’s wrong with this fucking Fauci?',\n",
              " 'Sometimes they’d call him Fucky, not Fauci”.',\n",
              " 'Bangladesh is preparing to enter its most severe lockdown yet, with people allowed to leave their homes only in an emergency and soldiers set to patrol the streets, as a deadly resurgence of Covid-19 infections sweeps the country.',\n",
              " 'As the national Covid positivity rate exceeded 20% and Sunday saw the country record its highest single-day death toll of the pandemic so far, the government announced a set of tough measures in an effort to curb the spread, including the closure of public transport networks and confining the population to their homes for a week.',\n",
              " 'Cabinet secretary Khandker Anwarul Islam said troops would be deployed from Thursday to help enforce the lockdown.',\n",
              " '“The armed forces will be on patrol.',\n",
              " 'If anyone ignores their orders, legal action will be available to them,” he told reporters late on Monday.',\n",
              " 'Islam added that “if needed, it [lockdown] will be extended”.',\n",
              " 'Most of the south Asian nation’s 168 million population will be confined to their homes by Thursday as part of the restrictions.',\n",
              " 'Only essential services and some larger garment factories supplying international markets will be allowed to operate.',\n",
              " 'The halting of buses and trains last week has already left tens of thousands of migrant workers living in the capital, Dhaka, stranded and unable to get home.',\n",
              " 'In scenes reminiscent of India’s lockdown last year, many migrant workers began walking home along the roads in the sweltering summer heat while others crammed into ferries, with no social distancing possible.',\n",
              " 'Officials have linked the surge in infections to the second Covid wave which swept neighbouring India in April, fuelled in part by the highly transmissible Delta variant.',\n",
              " 'India and Bangladesh share a long and porous border and thousands of migrant workers have crossed over from India in recent weeks.',\n",
              " 'More than two-thirds of new virus cases in Bangladesh’s capital are now of the Delta variant, a recent study by the independent Dhaka-based International Centre for Diarrhoeal Disease Research reported.',\n",
              " 'Authorities in Bangladesh fear a repeat of scenes in India, and more recently Nepal, where the deadly Covid-19 wave overwhelmed hospitals, led to oxygen shortages and brought the healthcare system to its knees.',\n",
              " 'Bangladesh reported more than 8,300 new infections on Monday and 119 deaths on Sunday.',\n",
              " 'The country has reported a total of nearly 900,000 infections and just over 14,000 virus deaths, but experts say the actual toll is likely to be much higher due to underreporting.',\n",
              " 'Only about 3% of the population is vaccinated, due to a shortage of supplies in Bangladesh.',\n",
              " 'The country had initially relied on vaccines from India but the rollout stalled when the Indian government banned all foreign exports of vaccines in order to meet domestic demand.',\n",
              " 'The World Health Organization’s Covax scheme, set up to distribute vaccines to poorer countries, is also facing supply shortages and so Bangladesh has recently turned to China and Russia for vaccines.',\n",
              " 'The implementation of the lockdown in Bangladesh has been staggered.',\n",
              " 'Restrictions on activities and movement were first imposed across Bangladesh in mid-April as cases and deaths jumped to their highest levels since the start of the pandemic.',\n",
              " 'Infections declined in May but started to rise again this month, sparking harsher restrictions.',\n",
              " 'Brazil could have saved 400,000 lives if the country had implemented stricter social distancing measures and launched a vaccination programme earlier, according to an eminent epidemiologist who is leading the first study to quantify the scale of the country’s Covid disaster.',\n",
              " 'Such policies would have prevented 80% of the half a million Covid deaths registered in one of the hardest-hit countries in the world, said Pedro Hallal, a professor at the Federal University of Pelotas.',\n",
              " '“The responsibility for these numbers is entirely on the federal government’s back –and particularly on the president’s,” Hallal told the Guardian.',\n",
              " '“It was not the federal government who said that the pandemic was a ‘little flu’.',\n",
              " 'It was not the government that encouraged people to go out without a mask, or who said that the vaccine could turn you into an alligator.',\n",
              " 'That was all the president, and it’s his responsibility,” Hallal said.',\n",
              " 'Hallal said that the Covid-19 mortality average was more than four times higher in Brazil than the rest of world – 2,345 per million in Brazil versus 494 globally.',\n",
              " 'Hallal, who last week testified before a senate inquiry into the government’s handling of the crisis, also estimated that 95,000 to 145,000 deaths occurred due to the country’s inaction in acquiring vaccines.',\n",
              " 'The inquiry has heard damning evidence that the government of Jair Bolsonaro dismissed several vaccine offers from pharmaceutical companies in 2020 even as coronavirus raged through Brazil.',\n",
              " 'Brazil’s vaccination program finally started in late January, but it has been constantly interrupted by shortages of both imported doses and supplies for the domestic manufacture of CoronaVac vaccines (which requires an active pharmaceutical ingredient shipped from China).',\n",
              " 'The program recently gained some momentum with new shipments, including the donation of 3m doses by the United States, and at least one dose has now been given to 33% of Brazil’s 212 million citizens, according to figures by a group of media outlets.',\n",
              " 'But the program is far from running smoothly.',\n",
              " 'The percentage of citizens who are fully vaccinated has remained stuck at under 12% for nearly a month, as millions of Brazilians fail to return for their second dose.',\n",
              " 'People bury coronavirus victims in Rio de Janeiro.',\n",
              " 'Photograph: Fabio Teixeira/NurPhoto/REX/Shutterstock  The effect of such incomplete treatment remains unclear but with Brazil still struggling with the P1 variant, health experts say that many people will need to start their vaccinations again.',\n",
              " 'The reasons for the incomplete vaccination include a shortage of vaccines, a lack of close follow-ups by medical staff, and the failure to launch a national campaign stressing the importance of the second dose.',\n",
              " '“We needed a national campaign calling people to get fully vaccinated – which did not happen,” said the epidemiologist Carla Domingues.',\n",
              " 'Domingues, who coordinated a successful national immunisation program between 2011 and 2019, said that leadership was critical to its success.',\n",
              " '“At the launch of every [previous] vaccination campaign in Brazil, the president was at a vaccine unit encouraging people, but the current president has not appeared at any unit since the beginning of the Covid rollout”.',\n",
              " 'On the contrary, Bolsonaro has actively discouraged the campaign, refusing to be vaccinated himself and spreading falsehoods about immunisation.',\n",
              " '“I’ve got the virus alive, so I am immunised,” he told supporters in March about being previously infected by Covid-19.',\n",
              " '“I will let other people get the injection in my place, and later on, if I decide to get the vaccine – because, depending on me, this is voluntary, you cannot force anyone to take it – I will take it”.',\n",
              " 'In the meantime, local authorities struggle to keep people engaged in vaccination.',\n",
              " 'The north-eastern state of Maranhão recently released a campaign offering up to US$2,000 for those who get the second dose.',\n",
              " '02:41  The inquest into the death in custody of Aboriginal man Raymond Noel Lindsay Thomas is still underway in Melbourne.',\n",
              " 'The 30-year-old died in a police pursuit on a residential Melbourne street in 2017.',\n",
              " 'The crash occurred just 21 seconds after police formally called in the pursuit, but the inquest has previously heard that the police car got up to speeds of 134km/h before calling the pursuit, when it was following Thomas’s car because it was unregistered and looked “dodgy”.',\n",
              " 'It reached 156km/h once the pursuit formally began – and video footage showed Thomas’s car was going at similarly high speeds when he crashed.',\n",
              " 'The pursuit policy was updated in 2016, following recommendations made at previous inquests by coroner John Olle.',\n",
              " 'It was updated again in 2019 following the inquest into the Bourke Street attacks.',\n",
              " 'Olle is also helming this inquest.',\n",
              " 'In a combative exchange with the Victoria police assistant commissioner for road policing, Libby Murphy, who gave evidence on Wednesday, Olle said there was a need for prescriptive questions in the pursuit policy which would trigger frontline officers to do a risk assessment.',\n",
              " 'The current policy calls for a “holistic risk assessment” and is subjective.',\n",
              " 'Olle suggested it would be helpful for the pursuit policy training to include two questions officers have to ask themselves in the first seconds of engaging in a pursuit: why am I pursuing this vehicle?',\n",
              " 'And is there anything I am doing that may adversely affect the driver of the vehicle I’m pursuing?',\n",
              " 'He said that would take the pressure off officers who may not, in the heat of the moment, have time for a considered risk assessment.',\n",
              " '“Most of the pursuits I’ve [held an inquest into] over the years are over very quickly,” he said.',\n",
              " '“Even before a pursuit controller can be involved and get the dispassionate risk assessment … they go from nothing to 150 to all over, often in under a minute”.',\n",
              " 'Murphy said those questions were “included in the risk assessment that’s in the pursuits policy now anyway … I think that’s part of a normal risk assessment”.',\n",
              " '“We cannot be too prescriptive when there are too many variables,” she said.',\n",
              " 'The inquest continues.',\n",
              " 'Chris Whitty may be given police protection after another video surfaced of England’s chief medical officer being subjected to “appalling abuse”.',\n",
              " 'Senior politicians have condemned the latest incident, with Boris Johnson saying he was “shocked at seeing the despicable harassment” and Priti Patel, the home secretary, saying she was horrified by the “terrible” behaviour towards a “remarkable public servant” who is one of the most senior government officials tackling the Covid crisis.',\n",
              " 'The health secretary, Sajid Javid, said such behaviour would not be tolerated and that those responsible “should be ashamed”.',\n",
              " 'The vaccines minister, Nadhim Zahawi, said they were “thugs” and should face charges.',\n",
              " 'Video emerged on social media on Monday of people filming in selfie mode appearing to manhandle Whitty, while he struggles to get away.',\n",
              " 'The Metropolitan police confirmed they were investigating, saying in a statement: “We are aware of a video being shared online showing an incident in St James’s Park [in Westminster].',\n",
              " 'Officers spoke to all those involved at the time and their details were taken.',\n",
              " 'We are in contact with the victim and the circumstances continue to be investigated”.',\n",
              " 'Chris Whitty apparently being accosted by one of the men.',\n",
              " 'Photograph: Instagram  In the video, Whitty manages to duck his head under an arm of one of the men holding on to him.',\n",
              " 'As he tries to walk away a man can be heard saying: “Just one photo, please,” while another says: “One photo mate”.',\n",
              " 'They then pull him back towards them putting their arms around him as he again attempts to get away.',\n",
              " 'Patel said Whitty was a “an incredibly respected figure” and told Times Radio: “I am horrified by what has happened to Chris.',\n",
              " 'The police are involved as well and we’re speaking to Chris to look at what we can do to support him”.',\n",
              " 'She suggested he could be offered police protection.',\n",
              " 'When asked if he needed it, Patel said: “It’s important we make sure that Chris is given the right kind of support.',\n",
              " 'It is terrible to see such an important public figure – someone that day in, day out has been serving our country in the way in which he has to keep us safe – being subject to such appalling abuse”.',\n",
              " 'Earlier this month Whitty was followed down a street by a prominent anti-vaccine activist who yelled at him for being a “liar”.',\n",
              " 'In February he was also called a “liar” multiple times while waiting for a takeaway lunch at a street food stall, prompting condemnation when the footage emerged.',\n",
              " 'Last week Whitty’s deputy, Jonathan Van-Tam, was confronted in the street outside the Ministry of Defence building by an anti-vaccine activist who accused him of poisoning Matt Hancock.',\n",
              " 'Footage of the incident, which was shared on Facebook, shows the activist following him and yelling at him.',\n",
              " 'Downing Street condemned the abuse, calling it “appalling behaviour”.',\n",
              " 'Ministers are expected to announce plans which will mean school pupils in England will no longer have to automatically isolate after contact with a positive Covid case.',\n",
              " 'The proposals are that self-isolating will be replaced by a testing regime to prevent children from missing school.',\n",
              " 'We would like to hear from teachers and parents what they think about the plans and how it will affect them and schoolchildren.',\n",
              " 'Share your thoughts  You can get in touch by filling in the form below or via WhatsApp by clicking here or adding the contact +44(0)7766780300.',\n",
              " 'Your responses are secure as the form is encrypted and only the Guardian has access to your contributions.',\n",
              " 'One of our journalists will be in contact before we publish, so please do leave contact details.',\n",
              " 'If you’re having trouble using the form, click here.',\n",
              " 'Read terms of service here and privacy policy here.',\n",
              " 'Hundreds of thousands of pupils will no longer have to automatically isolate after contact with a positive Covid case when schools return in September in England, ministers are expected to announce.',\n",
              " 'A quarter of a million children missed school in a single week because of coronavirus infections, self-isolation or school closures this month – the most disrupted week since schools fully reopened across the country in March.',\n",
              " 'It came as the new health secretary, Sajid Javid, said most Covid restrictions in England “must come to an end” on 19 July.',\n",
              " 'Addressing MPs as the UK recorded 22,868 daily Covid cases – the highest since the end of January – and three deaths, Javid said 19 July would be the “end of the line” for limits on social gatherings and said his priority would be trying to “return the economic and cultural life that makes this country so great”.',\n",
              " 'But, in a move likely to anger some Conservative backbenchers, he did not rule out keeping measures such as masks and social distancing in place.',\n",
              " 'The Guardian understands that ministers plan to overhaul the system for pupils, under which they are separated into bubbles – sometimes numbering more than 200 children – and forced to quarantine at home if anyone in their group tests positive for Covid.',\n",
              " 'An announcement is expected to be made in coming days to give schools time to prepare for the return in September, likely to be replaced with a testing regime.',\n",
              " 'A senior government source said: “We will have a different system when schools return in September which combines proportionate protections when someone tests positive with trying as much as possible to keep schools open”.',\n",
              " 'The schools minister, Nick Gibb, confirmed on Tuesday morning that the government was conducting trials of daily testing in secondary schools which were due to be completed on Wednesday.',\n",
              " 'This regime would enable schoolchildren to go into school provided they receive a negative result, eliminating the need for the entire classroom to self-isolate when a single child contracts the virus.',\n",
              " '“We’ll look at the data and see whether that is an effective alternative to self-isolation,” Gibb told BBC Radio 4’s Today programme.',\n",
              " 'While the government is still waiting for final advice from the Joint Committee on Vaccination and Immunisation on whether to vaccinate under-18s, the source said there was a window during the school holidays to vaccinate over-16s before the return to school, if inoculation is recommended by the committee.',\n",
              " 'Gibb wrote to headteachers on Monday warning them to prepare for the return of on-site Covid testing in the new school year.',\n",
              " 'Test kits and personal protective equipment for use at the start of the autumn term will start to be delivered from Tuesday.',\n",
              " 'Secondary schools set up testing sites in March when children returned to classrooms after England’s third lockdown but after three tests on site, pupils were tested at home.',\n",
              " 'Javid used his first appearance at the dispatch box since February 2020 to burnish his credentials as a new cabinet “hawk” and present himself as keener than his predecessor Matt Hancock to press on with the lifting of restrictions faster.',\n",
              " 'He said the “big task” he would undertake was to “restore our freedoms” that “save for the greatest of circumstances, no government should wish to curtail”.',\n",
              " 'Hancock resigned as health secretary on Saturday after breaking social distancing rules and prompting conflict of interest concerns over an affair with an aide.',\n",
              " 'Protecting life and the NHS remained important, Javid told MPs, but he added coronavirus would not be eliminated and that ministers and the public must “learn to live with it”.',\n",
              " 'Tory MPs largely welcomed Hancock being replaced with an experienced secretary of state who has run five government departments, including the Treasury and Home Office.',\n",
              " 'But they pressed him to offer specific guarantees.',\n",
              " 'Steve Brine, a former health minister, said he was “looking for a change in policy as much as a change of tone” and called for the rules on isolation bubbles to be overhauled.',\n",
              " '“Haven’t our young people suffered enough?',\n",
              " '” he asked.',\n",
              " '“Are we really going to continue to do this to ourselves?',\n",
              " '”  Jason McCartney, the Tory MP for Colne Valley, said children and families were being forced to isolate up to four times in a matter of months.',\n",
              " 'He said it was “having a huge impact on education, mental health and wellbeing” and called for extra PCR testing and a new approach to the policy.',\n",
              " 'Areas in northern England have been particularly affected by the rise in children isolating, with government figures showing one in 30 children in state schools were out of the classroom on 17 June.',\n",
              " 'That included 9,000 pupils with confirmed Covid and 16,000 with suspected coronavirus, and more than 7,000 whose schools had shut because of outbreaks.',\n",
              " 'Javid revealed he had asked for “fresh advice” on the issue, and that the current rules had been decided based on “the data that was available at the time”, adding: “Clearly data is changing all the time and we must make sure that we keep that under review”.',\n",
              " 'He signalled he was keen to implement the pilot in place in some local authorities, under which people are tested daily instead of needing to isolate.',\n",
              " 'But he stopped short of promising Tory MPs that all restrictions would be removed next month.',\n",
              " 'Mark Harper, the chair of the Covid Recovery Group, said he had been told some government figures were “preparing the ground for the return of restrictions in the autumn and winter” and urged Javid to rule out further lockdowns later in the year, but the health secretary only said he intended to “remove all restrictions as quickly as possible”.',\n",
              " 'Javid also sought to defend himself against potential accusations of bullishness on the 19 July stage four of unlocking, saying: “No date we choose comes with zero risk for Covid”.',\n",
              " 'Under stage four, nightclubs are due to reopen and limits on indoor mixing and large events are to be dropped.',\n",
              " 'The tables inside the Primavera Italian restaurant in Moscow’s Shchukino district should have been packed on a Monday afternoon, but the only diners were sat outside braving a thunderstorm.',\n",
              " 'For Moscow’s bustling restaurant business, it was the first day of a tough new QR-code regime that requires diners to provide proof they have been vaccinated or have a negative PCR test to eat indoors.',\n",
              " 'And the diners did not appear to have received the memo.',\n",
              " '“It’s hell,” said Oksana, the Primavera’s manager, clutching a QR-code scanner after she turned away another dejected couple hoping to sit inside.',\n",
              " '“I’ve had two tables inside for the whole day because no one has a QR code.',\n",
              " 'Thunderstorms.',\n",
              " 'Stores, everywhere else is open.',\n",
              " 'Why [are the restrictions] just for restaurants?',\n",
              " '”  For months, Moscow was the rare European capital where restaurants and bars remained packed through much of the pandemic, a parallel reality seemingly oblivious to the country’s estimated hundreds of thousands of Covid deaths and a vaccination drive that has inoculated only 11% of the population.',\n",
              " 'Now, cafes and restaurants look likely to take a hit from the city’s long-delayed response to the coronavirus epidemic.',\n",
              " 'After the government’s lacklustre campaign to get Russians to get jabs of Sputnik and other domestically produced vaccines, cafe owners have said they feel like they’re being “sacrificed” as the government scrambles to contain an “explosion” in new cases.',\n",
              " '“The state is just solving their problems sacrificing the small restaurant business,” said Artem Temirov, a co-founder of the popular Chernyy Cooperative coffee shop, which served about 40% fewer customers than usual on Monday.',\n",
              " '“No support at all from them because they let you work, the coffee shops are open, it’s still not a lockdown.',\n",
              " 'And they don’t care how you pay the bills, they need to show that they are fighting the Covid pandemic”.',\n",
              " 'As a minor culture war erupts over the Russian government’s decision to limit resort vacations, non-essential surgeries, and other facets of public life for the unvaccinated, restaurants and cafes look likely to be the next flashpoint.',\n",
              " 'When Coffeemania, a popular upscale chain, announced it would be following the new rules, readers on Instagram criticised the restaurants for acting “like slaves” and compared the new rules to the Holocaust.',\n",
              " '“The comments under this post are the portal to hell.',\n",
              " 'Hang in there,” one response read.',\n",
              " 'The growing inventory of health certificates needed for daily life has become something of a joke.',\n",
              " '“Can I have your QR code?',\n",
              " 'Your PCR test?',\n",
              " 'Your antibodies test?',\n",
              " 'Now what would you like?',\n",
              " '” one anecdote read over the radio went.',\n",
              " '“A Big Mac and cola,” was the reply.',\n",
              " 'But for the city’s restaurateurs, the new QR-code regime was no laughing matter.',\n",
              " 'On a normal Monday, Tamada, a Georgian restaurant in Shchukino, would have served 160 people by midday, mostly office workers wolfing down cheesy khachapuris, or “business lunches”, of stewed meats or shashlik.',\n",
              " 'On Monday, only 40 had come in, most sitting on a summer terrace that would also require QR codes next month.',\n",
              " '“All we can do is pray people get vaccinated and then that they come out to eat,” said Zara, the lone waitress at Tamada.',\n",
              " 'On Tuesday, Kremlin spokesman Dmitri Peskov conceded that the government would fall short of its target of vaccinating 60% of the country by September.',\n",
              " '“We see that the number of people willing to get vaccinated has begun growing more or less only as recently as this week.',\n",
              " 'Before that, the pace of vaccination was slow, regrettably,” he told journalists.',\n",
              " 'The city says 2.',\n",
              " '5 million QR codes have already been acquired and undoubtedly the system will become more orderly.',\n",
              " 'But restaurant owners are worried how long they can survive under the current conditions.',\n",
              " 'If revenues fell 40-50%, Temirov said, his coffee shop would not be profitable but could survive a month or two by borrowing money to pay salaries.',\n",
              " 'If revenues fell more than 50%, that would be “a catastrophe”.',\n",
              " 'They would try to make up the difference by increasing online sales of their coffee.',\n",
              " 'But questions remained as to what help they might receive from the government.',\n",
              " '“They failed with the campaign around vaccination because three months ago they were saying that Russia defeated Covid, everything is fine,” said Temirov.',\n",
              " '“And now they urgently try to assure people that the vaccination is the only way to survive.',\n",
              " 'Where were they the whole year?',\n",
              " '”I have to admit that Netflix terrified me.',\n",
              " 'As a viewer, of course, I was hooked.',\n",
              " 'As a film-maker, I was pretending to be cool about that fact that I had not been asked to join the party.',\n",
              " 'I’d only directed films for cinemas, never anything for a streaming platform.',\n",
              " 'I am aware of the endless debates.',\n",
              " 'Is Netflix a force for good?',\n",
              " 'Are you in favour of the motion or against?',\n",
              " 'Vote yes or no.',\n",
              " 'The thing is, there is no “yes” in movies.',\n",
              " 'You might find a Y in your wet-weather gear pocket on day three when you’re already a full day behind schedule.',\n",
              " 'Or an E under your pillow when you wake up the morning after the wrap party with a hangover, and the flu that’s been waiting to kick in.',\n",
              " 'And there’s the S that sits prominently over the bad reviews on opening weekend.',\n",
              " '(Somehow, you only see the bad reviews.',\n",
              " ') The outcome never meets the expectation, possibly because the expectation is rooted in the blind faith necessary to keep hauling yourself out of bed every morning at 5am.',\n",
              " 'There is no “yes” in movies.',\n",
              " 'Your life is a series of disappointments.',\n",
              " 'In 2018, a studio movie in which I had invested a year of my life collapsed.',\n",
              " 'Despair is a wonderful motivator  I’ve had a weird career.',\n",
              " 'I’ve made some very misguided choices.',\n",
              " 'I’ve turned down some seriously successful movies.',\n",
              " 'I’ve been pigeonholed.',\n",
              " 'I’ve been “uncategorisable”.',\n",
              " 'I’ve had box office successes.',\n",
              " 'And I’ve had, well … disappointments.',\n",
              " 'In the summer of 2018, a studio movie in which I had invested a year of my life collapsed.',\n",
              " 'Despair is a wonderful motivator.',\n",
              " 'Suddenly, I crave my roots.',\n",
              " 'Europe.',\n",
              " 'Somewhere I wouldn’t have to keep saying “just kidding”.',\n",
              " 'I call producer Marco Cohen, a longtime friend, in Milan.',\n",
              " 'He sends me the American novel Security by Stephen Amidon.',\n",
              " 'Marco has already had success with transporting an Amidon novel to an Italian setting: Human Capital.',\n",
              " 'My co-writer, Tinker Lindsay, and I love it.',\n",
              " 'We adapt it.',\n",
              " 'I name all the characters in the story after real citizens of Fivizzano, the town where they once made me an honorary citizen.',\n",
              " 'I ask them all to be extras, even small parts.',\n",
              " 'Stefano, the local architect, sends in a stunning audition for a two-line part as a policeman.',\n",
              " 'The architect can act.',\n",
              " 'Who knew?',\n",
              " 'I make a film in the year of Covid, for heaven’s sake!',\n",
              " 'We wrap four days before the first lockdown.',\n",
              " 'I remote edit from Los Angeles.',\n",
              " 'I finish my post-production in Rome in the autumn of 2020.',\n",
              " 'I deliver the film four days before Italy’s second lockdown.',\n",
              " 'It’s a sad time.',\n",
              " 'Social distancing is not a good look for Italians.',\n",
              " 'It’s not who they are.',\n",
              " 'I come back to Los Angeles.',\n",
              " 'Cinemas close.',\n",
              " 'I raise the idea of streaming the film with Sky Cinema Italy.',\n",
              " 'After all, I made this film in Italian, with Italian actors, for Italian audiences, with no eye on the rest of the world.',\n",
              " '‘I went back to my roots’ .',\n",
              " '.',\n",
              " '.',\n",
              " 'Peter Chelsom on set of Security  Then comes the news that Netflix have bought it for the rest of the world outside of Italy.',\n",
              " 'I wait.',\n",
              " 'There’s no publicity anywhere to be seen.',\n",
              " 'They tell me Netflix know exactly what they’re doing.',\n",
              " 'But dark thoughts kick in.',\n",
              " 'Hello disappointment, my old friend.',\n",
              " 'It opens as a Sky Original in Italy.',\n",
              " 'Very good numbers.',\n",
              " 'The best numbers for any thriller in an 18 months when Italy has been watching a lot of TV.',\n",
              " 'Still nothing from Netflix.',\n",
              " 'I’m beyond depressed.',\n",
              " 'Then … Suddenly, this little film pops up at No 3 in the world on Netflix’s movie list.',\n",
              " 'The irony.',\n",
              " 'No one can put a finger on why.',\n",
              " 'It never happens.',\n",
              " 'It’s not an action movie.',\n",
              " 'But it’s a hit.',\n",
              " 'Now I have a “common touch”.',\n",
              " 'I’m a “Hollywood director” who knows how to push the commercial button.',\n",
              " 'But that’s wrong.',\n",
              " 'The “common touch” (as they call it) is because I’m from Blackpool.',\n",
              " 'Nothing to do with Hollywood.',\n",
              " 'I just went back to my roots.',\n",
              " 'But now I finally understand the machine that is Netflix.',\n",
              " 'Yes, they give people what they want.',\n",
              " 'But it seems they also give people what they did not know they wanted.',\n",
              " 'I’m in shock.',\n",
              " 'It’s a “yes”.',\n",
              " 'As families prepared for winter school holidays, Covid outbreaks once again resulted in state border restrictions and cancelled plans.',\n",
              " 'State and territory health authorities are monitoring the cases and the situation is changing daily.',\n",
              " 'Here is a state-by-state breakdown of where you can and can’t travel and what you need to do before you leave home.',\n",
              " 'New South Wales  While interstate arrivals are welcome, Sydneysiders are unable to travel to regional NSW until 10 July.',\n",
              " 'People are barred from leaving the city, except for essential purposes.',\n",
              " 'Interstate arrivals to NSW – except those from Victoria – do not require a permit.',\n",
              " 'Travellers from Victoria will need to complete a travel declaration within the 24 hours immediately before entering NSW, or on entry.',\n",
              " 'Anyone who has been to a venue of high concern (listed here) must follow testing and self isolation requirements.',\n",
              " 'Victoria  All travellers from anywhere in Australia must apply for a permit to enter Victoria.',\n",
              " 'However, every area that is currently in lockdown has been declared a “red zone”, meaning their residents are banned from entering Victoria.',\n",
              " 'That means Greater Sydney and Wollongong in NSW, greater Darwin in the NT, the Perth and Peel region of WA, and south-east Queensland, Townsville, Palm Island and Magnetic Island in Queensland have been declared hotspots.',\n",
              " 'South-east Queensland includes the local government areas of Noosa, Sunshine Coast, Ipswich, Logan, Redlands, Morton, Brisbane, Gold Coast, the Scenic Rim, the Lockyer Valley, and Somerset.',\n",
              " 'Victorian residents returning from a red zone can enter the state but must quarantine for 14 days.',\n",
              " 'Queensland  The Queensland government has extended border restrictions to all of greater Sydney, including the Central Coast, Blue Mountains, Wollongong and Shellharbour; Darwin, Litchfield and Palmerston in the NT; and to the Perth and Peel region of WA.',\n",
              " 'People who live in or have visited these areas are barred from entering the state, unless they are granted a special exemption.',\n",
              " 'If you are a Queensland resident returning from these areas, you will need to quarantine at a hotel for 14 days at your own expense.',\n",
              " 'If you are not a Queensland resident, and you have been to these areas, you need to apply for an exemption, and if that is granted, you will need to quarantine in a hotel for 14 days at your own expense.',\n",
              " 'Everyone else will need to complete a travel declaration form up to three days prior to arrival to enter the state.',\n",
              " 'From 1am on Monday 28 June, NSW border zone residents will also be required to complete a travel declaration to enter Queensland.',\n",
              " 'Western Australia  Border restrictions with NSW and with Queensland has been reinstated, meaning no one who has been in either state is allowed to enter, without an exemption.',\n",
              " 'That applies to anyone who has been in NSW since 11 June (unless they have since spent 14 days outside of NSW or Queensland).',\n",
              " 'From 3pm Tuesday 29 June, non-WA residents will not be able to fly into the state from Queensland without an exemption.',\n",
              " 'Restrictions are in place for people coming from Victoria, the NT and the ACT, which means anyone entering from those states or territories must go through 14 days’ quarantine and be tested.',\n",
              " 'SA and Tasmania are the only states that do not have quarantine restrictions.',\n",
              " 'Arrivals will still have to complete the mandatory G2G pass registration and declaration, as well as completing a health screening on arrival.',\n",
              " 'Residents of Perth and the Peel region were put under increased restrictions on Sunday 27 June, but there are no restrictions on travel for them.',\n",
              " 'Sign up to receive the top stories from Guardian Australia every morning  Australian Capital Territory  The ACT has issued a stay-at-home order for all of greater Sydney, as well as the Blue Mountains, the Central Coast and Wollongong and Shellharbour, effective from 4pm Friday 25 June.',\n",
              " 'Non-ACT residents who have been in greater Sydney will not be allowed into the ACT except in limited cases where exemptions are granted, and people who are given an exemption will still need to comply with the stay-at-home order.',\n",
              " 'Residents arriving back in the ACT who had been in greater Sydney after 4pm Friday 25 June will need to complete an online declaration form, and go direct to where they intend to stay for the stay-at-home period until at least 11.',\n",
              " '59pm on Friday 2 July.',\n",
              " 'People in the ACT who left Darwin, Palmerston or Litchfield on or after 4pm Sunday 27 June must also comply with the stay-at-home requirements.',\n",
              " 'Anyone arriving from Queensland must check the close contact and casual contact exposure locations (listed here).',\n",
              " 'Anyone who has visited a close contact exposure location cannot enter the ACT without an exemption.',\n",
              " 'Anyone who has visited a casual contact location must complete a self-declaration form, and isolate until a negative test result.',\n",
              " 'Anyone arriving from Victoria must complete a declaration form within 24 hours prior to arriving, and follow the same rules on casual and close contact exposure locations as Queensland.',\n",
              " 'Travellers from all other states and jurisdictions can travel freely to the ACT.',\n",
              " 'South Australia  South Australia has closed its border with NSW, Western Australia, Queensland, the Northern Territory and the ACT.',\n",
              " 'For NSW, a 100km buffer zone is in place to allow people living near the border, including in Broken Hill, to travel into SA.',\n",
              " 'South Australian residents, people genuinely relocating to SA, or anyone escaping domestic violence can enter, but will still need to self-quarantine for a fortnight.',\n",
              " 'People from anywhere in Victoria, or who have visited the area within 14 days of arriving in SA, must get a Covid test on day one and must self-quarantine until a negative result is received.',\n",
              " 'Previously that applied only to Melbourne.',\n",
              " 'All travellers coming to South Australia must complete the Cross Border Travel Registration form prior to their trip.',\n",
              " 'Northern Territory  All interstate arrivals to the Northern Territory must fill in a border entry form.',\n",
              " 'People in locked-down parts of NSW, Queensland and WA will not be able to enter without 14 days’ quarantine.',\n",
              " 'The territory has declared greater Sydney, the Blue Mountains and Wollongong NSW Covid-19 hotspots, meaning visitors from those areas will need to go into quarantine for 14 days.',\n",
              " 'It has also declared the Perth and Peel regions of WA as hotspots, as well as south-east Queensland, Townsville, Palm Island and Magnetic Island.',\n",
              " 'South-east Queensland includes the local government areas of Noosa, Sunshine Coast, Ipswich, Logan, Redlands, Morton, Brisbane, Gold Coast, the Scenic Rim, the Lockyer Valley, and Somerset.',\n",
              " 'Anyone currently in the NT who is deemed a close contact by the NSW, Queensland or WA governments must undertake 14 days of quarantine in their home or at a suitable place.',\n",
              " 'Any casual contacts must isolate, get a Covid-19 test and remain in self-quarantine until a negative test is returned.',\n",
              " 'Travellers from greater Melbourne no longer need to go into quarantine.',\n",
              " 'Tasmania  Tasmania has closed its borders to any travellers from the greater Sydney area, the Perth and Peel region of WA, greater Darwin in the NT and 13 local government areas in Queensland, including Brisbane, Gold Coast and Townsville.',\n",
              " 'No one from the areas can enter Tasmania unless they have special permission from the deputy state controller.',\n",
              " 'As with other states and territories, all arrivals into Tasmania must provide their contact and travel details before entering the state.',\n",
              " 'A ban on people travelling from metropolitan Melbourne has been lifted, with the city downgraded to low risk.',\n",
              " 'Anyone who has been to an exposure site in Victoria, NSW, ACT and Queensland are not permitted to enter the state.',\n",
              " 'New Zealand  NZ has suspended quarantine-free travel with Australia until 9.',\n",
              " '59pm on Tuesday 29 June.',\n",
              " 'People who have visited an exposure site in any state are also barred from travelling to New Zealand within 14 days of visiting that site.',\n",
              " 'However, from Monday, travellers from Victoria, Tasmania, South Australia and ACT will be welcomed back to New Zealand.',\n",
              " 'Australian travellers will be required to produce a negative Covid-19 test before departing.',\n",
              " 'Medico-legal, public health and vaccination experts say national cabinet’s move to implement a no-fault indemnity scheme for GPs administering Covid-19 vaccines is unnecessary and confusing as doctors are already highly covered, but have welcomed added protections for patients.',\n",
              " 'The government on Monday night encouraged Australians to go against expert advice from the Australian Technical Advisory Group on Immunisation (Atagi) and ask their GPs about receiving the AstraZeneca vaccine if they did not want to wait to become eligible for Pfizer.',\n",
              " 'The Covid-19 commander, Lt Gen John Frewen, said on Monday night: “For those people who want to get access to a vaccine now who can’t get access to Pfizer, they can make an informed decision to get access through GPs”.',\n",
              " 'Frewen said the national cabinet decision to implement a new no-fault indemnity scheme for GPs who administer Covid-19 vaccines would provide them with added reassurance.',\n",
              " 'The prime minister, Scott Morrison, said “we are providing the indemnity scheme for those general practitioners, so they can actively engage with you, and you can make the best decision for your health”.',\n",
              " 'Senior medical negligence lawyer at Maurice Blackburn, Tom Ballantyne, said GPs performed procedures every single day that carried risks for which they were covered, and the Covid-19 vaccines were no different.',\n",
              " ...]"
            ]
          },
          "metadata": {
            "tags": []
          },
          "execution_count": 8
        }
      ]
    },
    {
      "cell_type": "code",
      "metadata": {
        "colab": {
          "base_uri": "https://localhost:8080/"
        },
        "id": "3el4qF7_kSn-",
        "outputId": "c1fef950-35f9-48b1-fe0a-fb8c9b20b632"
      },
      "source": [
        "from nltk.sentiment.vader import SentimentIntensityAnalyzer as SIA\n",
        "\n",
        "sia = SIA()\n",
        "results = []\n",
        "\n",
        "for line in guardian_sentences:\n",
        "    pol_score = sia.polarity_scores(line)\n",
        "    pol_score['sentence'] = line\n",
        "    results.append(pol_score)\n",
        "\n",
        "for i in range(3):\n",
        "  print(results[i:i+1])"
      ],
      "execution_count": null,
      "outputs": [
        {
          "output_type": "stream",
          "text": [
            "/usr/local/lib/python3.7/dist-packages/nltk/twitter/__init__.py:20: UserWarning: The twython library has not been installed. Some functionality from the twitter package will not be available.\n",
            "  warnings.warn(\"The twython library has not been installed. \"\n"
          ],
          "name": "stderr"
        },
        {
          "output_type": "stream",
          "text": [
            "[{'neg': 0.0, 'neu': 0.914, 'pos': 0.086, 'compound': 0.1823, 'sentence': '12:03  The UK government has admitted a health minister used private emails for government business despite denying it 24 hours earlier, but defended Lord Bethell, saying he had abided by the guidance.'}]\n",
            "[{'neg': 0.0, 'neu': 1.0, 'pos': 0.0, 'compound': 0.0, 'sentence': 'Bethell, a close ally of the former health secretary Matt Hancock, defended his use of email today.'}]\n",
            "[{'neg': 0.107, 'neu': 0.859, 'pos': 0.033, 'compound': -0.4767, 'sentence': 'The comments contradicted the defence No 10 made yesterday, when the spokesman said “both the former health secretary and Lord Bethell understand the rules around personal email usage and only ever conducted government business through their departmental email addresses”.'}]\n"
          ],
          "name": "stdout"
        }
      ]
    },
    {
      "cell_type": "code",
      "metadata": {
        "colab": {
          "base_uri": "https://localhost:8080/",
          "height": 363
        },
        "id": "2URr9dzMk11u",
        "outputId": "496ef6eb-7b68-4c91-9dac-1a1a2690b558"
      },
      "source": [
        "s_guar = pd.DataFrame.from_records(results)\n",
        "s_guar['newspaper'] = 'The_Guardian'\n",
        "s_guar.head(10)"
      ],
      "execution_count": null,
      "outputs": [
        {
          "output_type": "execute_result",
          "data": {
            "text/html": [
              "<div>\n",
              "<style scoped>\n",
              "    .dataframe tbody tr th:only-of-type {\n",
              "        vertical-align: middle;\n",
              "    }\n",
              "\n",
              "    .dataframe tbody tr th {\n",
              "        vertical-align: top;\n",
              "    }\n",
              "\n",
              "    .dataframe thead th {\n",
              "        text-align: right;\n",
              "    }\n",
              "</style>\n",
              "<table border=\"1\" class=\"dataframe\">\n",
              "  <thead>\n",
              "    <tr style=\"text-align: right;\">\n",
              "      <th></th>\n",
              "      <th>neg</th>\n",
              "      <th>neu</th>\n",
              "      <th>pos</th>\n",
              "      <th>compound</th>\n",
              "      <th>sentence</th>\n",
              "      <th>newspaper</th>\n",
              "    </tr>\n",
              "  </thead>\n",
              "  <tbody>\n",
              "    <tr>\n",
              "      <th>0</th>\n",
              "      <td>0.000</td>\n",
              "      <td>0.914</td>\n",
              "      <td>0.086</td>\n",
              "      <td>0.1823</td>\n",
              "      <td>12:03  The UK government has admitted a health...</td>\n",
              "      <td>The_Guardian</td>\n",
              "    </tr>\n",
              "    <tr>\n",
              "      <th>1</th>\n",
              "      <td>0.000</td>\n",
              "      <td>1.000</td>\n",
              "      <td>0.000</td>\n",
              "      <td>0.0000</td>\n",
              "      <td>Bethell, a close ally of the former health sec...</td>\n",
              "      <td>The_Guardian</td>\n",
              "    </tr>\n",
              "    <tr>\n",
              "      <th>2</th>\n",
              "      <td>0.107</td>\n",
              "      <td>0.859</td>\n",
              "      <td>0.033</td>\n",
              "      <td>-0.4767</td>\n",
              "      <td>The comments contradicted the defence No 10 ma...</td>\n",
              "      <td>The_Guardian</td>\n",
              "    </tr>\n",
              "    <tr>\n",
              "      <th>3</th>\n",
              "      <td>0.050</td>\n",
              "      <td>0.870</td>\n",
              "      <td>0.080</td>\n",
              "      <td>0.3182</td>\n",
              "      <td>Bethell, who oversaw the award of Covid contra...</td>\n",
              "      <td>The_Guardian</td>\n",
              "    </tr>\n",
              "    <tr>\n",
              "      <th>4</th>\n",
              "      <td>0.000</td>\n",
              "      <td>0.920</td>\n",
              "      <td>0.080</td>\n",
              "      <td>0.0772</td>\n",
              "      <td>On Monday, the Guardian revealed that a number...</td>\n",
              "      <td>The_Guardian</td>\n",
              "    </tr>\n",
              "    <tr>\n",
              "      <th>5</th>\n",
              "      <td>0.000</td>\n",
              "      <td>1.000</td>\n",
              "      <td>0.000</td>\n",
              "      <td>0.0000</td>\n",
              "      <td>His address was copied into at least four offi...</td>\n",
              "      <td>The_Guardian</td>\n",
              "    </tr>\n",
              "    <tr>\n",
              "      <th>6</th>\n",
              "      <td>0.000</td>\n",
              "      <td>1.000</td>\n",
              "      <td>0.000</td>\n",
              "      <td>0.0000</td>\n",
              "      <td>In April 2020, the businessman had approached ...</td>\n",
              "      <td>The_Guardian</td>\n",
              "    </tr>\n",
              "    <tr>\n",
              "      <th>7</th>\n",
              "      <td>0.000</td>\n",
              "      <td>0.759</td>\n",
              "      <td>0.241</td>\n",
              "      <td>0.9428</td>\n",
              "      <td>The hope was that schools could stagger on for...</td>\n",
              "      <td>The_Guardian</td>\n",
              "    </tr>\n",
              "    <tr>\n",
              "      <th>8</th>\n",
              "      <td>0.312</td>\n",
              "      <td>0.574</td>\n",
              "      <td>0.115</td>\n",
              "      <td>-0.6666</td>\n",
              "      <td>But three weeks before the holidays in most En...</td>\n",
              "      <td>The_Guardian</td>\n",
              "    </tr>\n",
              "    <tr>\n",
              "      <th>9</th>\n",
              "      <td>0.000</td>\n",
              "      <td>1.000</td>\n",
              "      <td>0.000</td>\n",
              "      <td>0.0000</td>\n",
              "      <td>Cases are rising, as are closures, with offici...</td>\n",
              "      <td>The_Guardian</td>\n",
              "    </tr>\n",
              "  </tbody>\n",
              "</table>\n",
              "</div>"
            ],
            "text/plain": [
              "     neg  ...     newspaper\n",
              "0  0.000  ...  The_Guardian\n",
              "1  0.000  ...  The_Guardian\n",
              "2  0.107  ...  The_Guardian\n",
              "3  0.050  ...  The_Guardian\n",
              "4  0.000  ...  The_Guardian\n",
              "5  0.000  ...  The_Guardian\n",
              "6  0.000  ...  The_Guardian\n",
              "7  0.000  ...  The_Guardian\n",
              "8  0.312  ...  The_Guardian\n",
              "9  0.000  ...  The_Guardian\n",
              "\n",
              "[10 rows x 6 columns]"
            ]
          },
          "metadata": {
            "tags": []
          },
          "execution_count": 10
        }
      ]
    },
    {
      "cell_type": "code",
      "metadata": {
        "colab": {
          "base_uri": "https://localhost:8080/",
          "height": 363
        },
        "id": "HjAji_OwlAHn",
        "outputId": "c15b3875-c051-41bb-8b9e-55be642d7494"
      },
      "source": [
        "# recoding classification into 3 categories (treshold for negative is <-0.2 and for positive is 0.3<)\n",
        "s_guar['label'] = 0\n",
        "s_guar.loc[s_guar['compound'] > 0.3, 'label'] = 1\n",
        "s_guar.loc[s_guar['compound'] < -0.2, 'label'] = -1\n",
        "s_guar.head(10)"
      ],
      "execution_count": null,
      "outputs": [
        {
          "output_type": "execute_result",
          "data": {
            "text/html": [
              "<div>\n",
              "<style scoped>\n",
              "    .dataframe tbody tr th:only-of-type {\n",
              "        vertical-align: middle;\n",
              "    }\n",
              "\n",
              "    .dataframe tbody tr th {\n",
              "        vertical-align: top;\n",
              "    }\n",
              "\n",
              "    .dataframe thead th {\n",
              "        text-align: right;\n",
              "    }\n",
              "</style>\n",
              "<table border=\"1\" class=\"dataframe\">\n",
              "  <thead>\n",
              "    <tr style=\"text-align: right;\">\n",
              "      <th></th>\n",
              "      <th>neg</th>\n",
              "      <th>neu</th>\n",
              "      <th>pos</th>\n",
              "      <th>compound</th>\n",
              "      <th>sentence</th>\n",
              "      <th>newspaper</th>\n",
              "      <th>label</th>\n",
              "    </tr>\n",
              "  </thead>\n",
              "  <tbody>\n",
              "    <tr>\n",
              "      <th>0</th>\n",
              "      <td>0.000</td>\n",
              "      <td>0.914</td>\n",
              "      <td>0.086</td>\n",
              "      <td>0.1823</td>\n",
              "      <td>12:03  The UK government has admitted a health...</td>\n",
              "      <td>The_Guardian</td>\n",
              "      <td>0</td>\n",
              "    </tr>\n",
              "    <tr>\n",
              "      <th>1</th>\n",
              "      <td>0.000</td>\n",
              "      <td>1.000</td>\n",
              "      <td>0.000</td>\n",
              "      <td>0.0000</td>\n",
              "      <td>Bethell, a close ally of the former health sec...</td>\n",
              "      <td>The_Guardian</td>\n",
              "      <td>0</td>\n",
              "    </tr>\n",
              "    <tr>\n",
              "      <th>2</th>\n",
              "      <td>0.107</td>\n",
              "      <td>0.859</td>\n",
              "      <td>0.033</td>\n",
              "      <td>-0.4767</td>\n",
              "      <td>The comments contradicted the defence No 10 ma...</td>\n",
              "      <td>The_Guardian</td>\n",
              "      <td>-1</td>\n",
              "    </tr>\n",
              "    <tr>\n",
              "      <th>3</th>\n",
              "      <td>0.050</td>\n",
              "      <td>0.870</td>\n",
              "      <td>0.080</td>\n",
              "      <td>0.3182</td>\n",
              "      <td>Bethell, who oversaw the award of Covid contra...</td>\n",
              "      <td>The_Guardian</td>\n",
              "      <td>1</td>\n",
              "    </tr>\n",
              "    <tr>\n",
              "      <th>4</th>\n",
              "      <td>0.000</td>\n",
              "      <td>0.920</td>\n",
              "      <td>0.080</td>\n",
              "      <td>0.0772</td>\n",
              "      <td>On Monday, the Guardian revealed that a number...</td>\n",
              "      <td>The_Guardian</td>\n",
              "      <td>0</td>\n",
              "    </tr>\n",
              "    <tr>\n",
              "      <th>5</th>\n",
              "      <td>0.000</td>\n",
              "      <td>1.000</td>\n",
              "      <td>0.000</td>\n",
              "      <td>0.0000</td>\n",
              "      <td>His address was copied into at least four offi...</td>\n",
              "      <td>The_Guardian</td>\n",
              "      <td>0</td>\n",
              "    </tr>\n",
              "    <tr>\n",
              "      <th>6</th>\n",
              "      <td>0.000</td>\n",
              "      <td>1.000</td>\n",
              "      <td>0.000</td>\n",
              "      <td>0.0000</td>\n",
              "      <td>In April 2020, the businessman had approached ...</td>\n",
              "      <td>The_Guardian</td>\n",
              "      <td>0</td>\n",
              "    </tr>\n",
              "    <tr>\n",
              "      <th>7</th>\n",
              "      <td>0.000</td>\n",
              "      <td>0.759</td>\n",
              "      <td>0.241</td>\n",
              "      <td>0.9428</td>\n",
              "      <td>The hope was that schools could stagger on for...</td>\n",
              "      <td>The_Guardian</td>\n",
              "      <td>1</td>\n",
              "    </tr>\n",
              "    <tr>\n",
              "      <th>8</th>\n",
              "      <td>0.312</td>\n",
              "      <td>0.574</td>\n",
              "      <td>0.115</td>\n",
              "      <td>-0.6666</td>\n",
              "      <td>But three weeks before the holidays in most En...</td>\n",
              "      <td>The_Guardian</td>\n",
              "      <td>-1</td>\n",
              "    </tr>\n",
              "    <tr>\n",
              "      <th>9</th>\n",
              "      <td>0.000</td>\n",
              "      <td>1.000</td>\n",
              "      <td>0.000</td>\n",
              "      <td>0.0000</td>\n",
              "      <td>Cases are rising, as are closures, with offici...</td>\n",
              "      <td>The_Guardian</td>\n",
              "      <td>0</td>\n",
              "    </tr>\n",
              "  </tbody>\n",
              "</table>\n",
              "</div>"
            ],
            "text/plain": [
              "     neg    neu  ...     newspaper  label\n",
              "0  0.000  0.914  ...  The_Guardian      0\n",
              "1  0.000  1.000  ...  The_Guardian      0\n",
              "2  0.107  0.859  ...  The_Guardian     -1\n",
              "3  0.050  0.870  ...  The_Guardian      1\n",
              "4  0.000  0.920  ...  The_Guardian      0\n",
              "5  0.000  1.000  ...  The_Guardian      0\n",
              "6  0.000  1.000  ...  The_Guardian      0\n",
              "7  0.000  0.759  ...  The_Guardian      1\n",
              "8  0.312  0.574  ...  The_Guardian     -1\n",
              "9  0.000  1.000  ...  The_Guardian      0\n",
              "\n",
              "[10 rows x 7 columns]"
            ]
          },
          "metadata": {
            "tags": []
          },
          "execution_count": 11
        }
      ]
    },
    {
      "cell_type": "code",
      "metadata": {
        "colab": {
          "base_uri": "https://localhost:8080/"
        },
        "id": "PXClIJ7KlPKa",
        "outputId": "6ee5c41a-a212-4840-dcf1-5b6d20d7028b"
      },
      "source": [
        "print(s_guar[s_guar['label'] != 0]['label'].value_counts())"
      ],
      "execution_count": null,
      "outputs": [
        {
          "output_type": "stream",
          "text": [
            "-1    469\n",
            " 1    444\n",
            "Name: label, dtype: int64\n"
          ],
          "name": "stdout"
        }
      ]
    },
    {
      "cell_type": "code",
      "metadata": {
        "id": "aOoMCU5flU5k",
        "colab": {
          "base_uri": "https://localhost:8080/"
        },
        "outputId": "ad8ea9f2-88ee-4685-cc58-f43020f788a7"
      },
      "source": [
        "# now we normalize data\n",
        "counts_guar = s_guar[s_guar['label'] != 0]['label'].value_counts(normalize=True)\n",
        "print(counts_guar)"
      ],
      "execution_count": null,
      "outputs": [
        {
          "output_type": "stream",
          "text": [
            "-1    0.513691\n",
            " 1    0.486309\n",
            "Name: label, dtype: float64\n"
          ],
          "name": "stdout"
        }
      ]
    },
    {
      "cell_type": "code",
      "metadata": {
        "colab": {
          "base_uri": "https://localhost:8080/",
          "height": 320
        },
        "id": "oF8gua6llmku",
        "outputId": "4a0c77cb-fb1a-4553-cf31-b3c6268eb84a"
      },
      "source": [
        "fig, ax = plt.subplots(figsize=(5, 5))\n",
        "sns.barplot(x=counts_guar.index, y=counts_guar*100, ax=ax)\n",
        "\n",
        "ax.set_xticklabels(['Negative', 'Positive'])\n",
        "ax.set_ylabel(\"Percentage\")\n",
        "\n",
        "plt.show()"
      ],
      "execution_count": null,
      "outputs": [
        {
          "output_type": "display_data",
          "data": {
            "image/png": "[encoded data removed]",
            "text/plain": [
              "<Figure size 360x360 with 1 Axes>"
            ]
          },
          "metadata": {
            "tags": [],
            "needs_background": "light"
          }
        }
      ]
    },
    {
      "cell_type": "markdown",
      "metadata": {
        "id": "M56Xwre3mHua"
      },
      "source": [
        "## Sentiment analysis on words from 'The Guardian'"
      ]
    },
    {
      "cell_type": "code",
      "metadata": {
        "id": "DWUVtPLtmHHt"
      },
      "source": [
        "news_g = nltk.word_tokenize(guardian_raw) # tokenize text file\n",
        "news_guar = Text(news_g) # create NLTK text from a text file"
      ],
      "execution_count": null,
      "outputs": []
    },
    {
      "cell_type": "markdown",
      "metadata": {
        "id": "oQHhf_c_LCDu"
      },
      "source": [
        "### Positive sentiment"
      ]
    },
    {
      "cell_type": "code",
      "metadata": {
        "colab": {
          "base_uri": "https://localhost:8080/"
        },
        "id": "QGT7VVWuoFZV",
        "outputId": "c6618d2a-ae32-4dbc-9288-dd86a4cbeb38"
      },
      "source": [
        "pos_lines_guar = list(s_guar[s_guar.label == 1].sentence)\n",
        "pos_tokens_guar = process_text(pos_lines_guar)\n",
        "pos_freq_guar = nltk.FreqDist(pos_tokens_guar)\n",
        "\n",
        "pos_freq_guar.most_common(20)\n"
      ],
      "execution_count": null,
      "outputs": [
        {
          "output_type": "execute_result",
          "data": {
            "text/plain": [
              "[('said', 60),\n",
              " ('people', 59),\n",
              " ('government', 47),\n",
              " ('care', 37),\n",
              " ('health', 33),\n",
              " ('would', 33),\n",
              " ('covid', 32),\n",
              " ('vaccine', 30),\n",
              " ('greater', 29),\n",
              " ('need', 28),\n",
              " ('support', 25),\n",
              " ('home', 24),\n",
              " ('sydney', 24),\n",
              " ('vaccination', 23),\n",
              " ('one', 23),\n",
              " ('public', 23),\n",
              " ('like', 23),\n",
              " ('new', 23),\n",
              " ('also', 21),\n",
              " ('work', 20)]"
            ]
          },
          "metadata": {
            "tags": []
          },
          "execution_count": 16
        }
      ]
    },
    {
      "cell_type": "markdown",
      "metadata": {
        "id": "Zv2HnxsNLIwO"
      },
      "source": [
        "### Negative sentiment"
      ]
    },
    {
      "cell_type": "code",
      "metadata": {
        "colab": {
          "base_uri": "https://localhost:8080/"
        },
        "id": "m9IIcmgto-4f",
        "outputId": "7ee5389d-2fdf-4d10-9221-ab1014a0e6dd"
      },
      "source": [
        "neg_lines_guar = list(s_guar[s_guar.label == -1].sentence)\n",
        "\n",
        "neg_tokens_guar = process_text(neg_lines_guar)\n",
        "neg_freq_guar = nltk.FreqDist(neg_tokens_guar)\n",
        "\n",
        "neg_freq_guar.most_common(20)\n"
      ],
      "execution_count": null,
      "outputs": [
        {
          "output_type": "execute_result",
          "data": {
            "text/plain": [
              "[('covid', 76),\n",
              " ('said', 65),\n",
              " ('people', 64),\n",
              " ('government', 51),\n",
              " ('risk', 34),\n",
              " ('health', 30),\n",
              " ('pandemic', 30),\n",
              " ('would', 30),\n",
              " ('one', 28),\n",
              " ('19', 28),\n",
              " ('even', 26),\n",
              " ('new', 25),\n",
              " ('children', 24),\n",
              " ('vaccine', 24),\n",
              " ('year', 24),\n",
              " ('also', 23),\n",
              " ('public', 22),\n",
              " ('get', 22),\n",
              " ('australia', 21),\n",
              " ('school', 21)]"
            ]
          },
          "metadata": {
            "tags": []
          },
          "execution_count": 17
        }
      ]
    },
    {
      "cell_type": "markdown",
      "metadata": {
        "id": "PMqdLT6ep7cW"
      },
      "source": [
        "# China The Guardian"
      ]
    },
    {
      "cell_type": "code",
      "metadata": {
        "colab": {
          "base_uri": "https://localhost:8080/"
        },
        "id": "09VAU7s5p_SE",
        "outputId": "6c4dfb43-cfcb-45ab-a52e-a81b1082bf6e"
      },
      "source": [
        "news_guar.concordance('China')"
      ],
      "execution_count": null,
      "outputs": [
        {
          "output_type": "stream",
          "text": [
            "Displaying 3 of 3 matches:\n",
            "-wearing and the origins of Covid in China . “ Fauci is the villain here , ” Mo\n",
            "so Bangladesh has recently turned to China and Russia for vaccines . The implem\n",
            "armaceutical ingredient shipped from China ) . The program recently gained some\n"
          ],
          "name": "stdout"
        }
      ]
    },
    {
      "cell_type": "code",
      "metadata": {
        "colab": {
          "base_uri": "https://localhost:8080/",
          "height": 295
        },
        "id": "hjiWkcKhqX_F",
        "outputId": "af006969-9b28-4e95-afb5-089bc4b918e1"
      },
      "source": [
        "news_guar.dispersion_plot([\"China\", \"Beijing\", \"blame\", \"deaths\", \"vaccine\", \"variant\", \"pandemic\", \"restrictions\", \"freedom\"])"
      ],
      "execution_count": null,
      "outputs": [
        {
          "output_type": "display_data",
          "data": {
            "image/png": "[encoded data removed]",
            "text/plain": [
              "<Figure size 432x288 with 1 Axes>"
            ]
          },
          "metadata": {
            "tags": [],
            "needs_background": "light"
          }
        }
      ]
    },
    {
      "cell_type": "markdown",
      "metadata": {
        "id": "nxfE9r83jz5W"
      },
      "source": [
        "## Sentiment analysis of sentences in BBC articles"
      ]
    },
    {
      "cell_type": "code",
      "metadata": {
        "id": "fwdisd-vjvZW"
      },
      "source": [
        "bbc_sentences = split_into_sentences(bbc_raw)"
      ],
      "execution_count": null,
      "outputs": []
    },
    {
      "cell_type": "code",
      "metadata": {
        "colab": {
          "base_uri": "https://localhost:8080/"
        },
        "id": "R5vru6CPkZg7",
        "outputId": "532ba7f4-ec03-467c-b1f3-89d8103be11a"
      },
      "source": [
        "from nltk.sentiment.vader import SentimentIntensityAnalyzer as SIA\n",
        "\n",
        "sia_bbc = SIA()\n",
        "results_bbc = []\n",
        "\n",
        "for line in bbc_sentences:\n",
        "    pol_score = sia_bbc.polarity_scores(line)\n",
        "    pol_score['sentence'] = line\n",
        "    results_bbc.append(pol_score)\n",
        "\n",
        "for i in range(3):\n",
        "  print(results_bbc[i:i+1])"
      ],
      "execution_count": null,
      "outputs": [
        {
          "output_type": "stream",
          "text": [
            "[{'neg': 0.163, 'neu': 0.837, 'pos': 0.0, 'compound': -0.6486, 'sentence': 'After India’s devastating second Covid wave, the country is now grappling with tens of thousands of cases of a rare fungal infection called mucormycosis.'}]\n",
            "[{'neg': 0.0, 'neu': 1.0, 'pos': 0.0, 'compound': 0.0, 'sentence': 'The disease has been declared an epidemic in the nation.'}]\n",
            "[{'neg': 0.474, 'neu': 0.526, 'pos': 0.0, 'compound': -0.5574, 'sentence': 'Thousands have died of it.'}]\n"
          ],
          "name": "stdout"
        }
      ]
    },
    {
      "cell_type": "code",
      "metadata": {
        "colab": {
          "base_uri": "https://localhost:8080/",
          "height": 363
        },
        "id": "YXonsyHsk3_s",
        "outputId": "11f3a1fb-67a7-4c35-8c3e-8f46ee4f2f89"
      },
      "source": [
        "s_bbc = pd.DataFrame.from_records(results_bbc)\n",
        "s_bbc['newspaper'] = 'BBC'\n",
        "s_bbc.head(10)"
      ],
      "execution_count": null,
      "outputs": [
        {
          "output_type": "execute_result",
          "data": {
            "text/html": [
              "<div>\n",
              "<style scoped>\n",
              "    .dataframe tbody tr th:only-of-type {\n",
              "        vertical-align: middle;\n",
              "    }\n",
              "\n",
              "    .dataframe tbody tr th {\n",
              "        vertical-align: top;\n",
              "    }\n",
              "\n",
              "    .dataframe thead th {\n",
              "        text-align: right;\n",
              "    }\n",
              "</style>\n",
              "<table border=\"1\" class=\"dataframe\">\n",
              "  <thead>\n",
              "    <tr style=\"text-align: right;\">\n",
              "      <th></th>\n",
              "      <th>neg</th>\n",
              "      <th>neu</th>\n",
              "      <th>pos</th>\n",
              "      <th>compound</th>\n",
              "      <th>sentence</th>\n",
              "      <th>newspaper</th>\n",
              "    </tr>\n",
              "  </thead>\n",
              "  <tbody>\n",
              "    <tr>\n",
              "      <th>0</th>\n",
              "      <td>0.163</td>\n",
              "      <td>0.837</td>\n",
              "      <td>0.000</td>\n",
              "      <td>-0.6486</td>\n",
              "      <td>After India’s devastating second Covid wave, t...</td>\n",
              "      <td>BBC</td>\n",
              "    </tr>\n",
              "    <tr>\n",
              "      <th>1</th>\n",
              "      <td>0.000</td>\n",
              "      <td>1.000</td>\n",
              "      <td>0.000</td>\n",
              "      <td>0.0000</td>\n",
              "      <td>The disease has been declared an epidemic in t...</td>\n",
              "      <td>BBC</td>\n",
              "    </tr>\n",
              "    <tr>\n",
              "      <th>2</th>\n",
              "      <td>0.474</td>\n",
              "      <td>0.526</td>\n",
              "      <td>0.000</td>\n",
              "      <td>-0.5574</td>\n",
              "      <td>Thousands have died of it.</td>\n",
              "      <td>BBC</td>\n",
              "    </tr>\n",
              "    <tr>\n",
              "      <th>3</th>\n",
              "      <td>0.000</td>\n",
              "      <td>1.000</td>\n",
              "      <td>0.000</td>\n",
              "      <td>0.0000</td>\n",
              "      <td>Doctors say Covid, and the treatment being giv...</td>\n",
              "      <td>BBC</td>\n",
              "    </tr>\n",
              "    <tr>\n",
              "      <th>4</th>\n",
              "      <td>0.289</td>\n",
              "      <td>0.711</td>\n",
              "      <td>0.000</td>\n",
              "      <td>-0.6908</td>\n",
              "      <td>From a public hospital in Pune, one of the wor...</td>\n",
              "      <td>BBC</td>\n",
              "    </tr>\n",
              "    <tr>\n",
              "      <th>5</th>\n",
              "      <td>0.000</td>\n",
              "      <td>1.000</td>\n",
              "      <td>0.000</td>\n",
              "      <td>0.0000</td>\n",
              "      <td>Filmed by Sanjay Ganguly.</td>\n",
              "      <td>BBC</td>\n",
              "    </tr>\n",
              "    <tr>\n",
              "      <th>6</th>\n",
              "      <td>0.000</td>\n",
              "      <td>1.000</td>\n",
              "      <td>0.000</td>\n",
              "      <td>0.0000</td>\n",
              "      <td>Produced and edited by Aakriti ThaparNeither t...</td>\n",
              "      <td>BBC</td>\n",
              "    </tr>\n",
              "    <tr>\n",
              "      <th>7</th>\n",
              "      <td>0.000</td>\n",
              "      <td>0.795</td>\n",
              "      <td>0.205</td>\n",
              "      <td>0.7351</td>\n",
              "      <td>However, Balearic Islands Health Minister Patr...</td>\n",
              "      <td>BBC</td>\n",
              "    </tr>\n",
              "    <tr>\n",
              "      <th>8</th>\n",
              "      <td>0.000</td>\n",
              "      <td>1.000</td>\n",
              "      <td>0.000</td>\n",
              "      <td>0.0000</td>\n",
              "      <td>So far 26.</td>\n",
              "      <td>BBC</td>\n",
              "    </tr>\n",
              "    <tr>\n",
              "      <th>9</th>\n",
              "      <td>0.000</td>\n",
              "      <td>0.821</td>\n",
              "      <td>0.179</td>\n",
              "      <td>0.6124</td>\n",
              "      <td>1% of young people in quarantine had tested po...</td>\n",
              "      <td>BBC</td>\n",
              "    </tr>\n",
              "  </tbody>\n",
              "</table>\n",
              "</div>"
            ],
            "text/plain": [
              "     neg    neu  ...                                           sentence  newspaper\n",
              "0  0.163  0.837  ...  After India’s devastating second Covid wave, t...        BBC\n",
              "1  0.000  1.000  ...  The disease has been declared an epidemic in t...        BBC\n",
              "2  0.474  0.526  ...                         Thousands have died of it.        BBC\n",
              "3  0.000  1.000  ...  Doctors say Covid, and the treatment being giv...        BBC\n",
              "4  0.289  0.711  ...  From a public hospital in Pune, one of the wor...        BBC\n",
              "5  0.000  1.000  ...                          Filmed by Sanjay Ganguly.        BBC\n",
              "6  0.000  1.000  ...  Produced and edited by Aakriti ThaparNeither t...        BBC\n",
              "7  0.000  0.795  ...  However, Balearic Islands Health Minister Patr...        BBC\n",
              "8  0.000  1.000  ...                                         So far 26.        BBC\n",
              "9  0.000  0.821  ...  1% of young people in quarantine had tested po...        BBC\n",
              "\n",
              "[10 rows x 6 columns]"
            ]
          },
          "metadata": {
            "tags": []
          },
          "execution_count": 22
        }
      ]
    },
    {
      "cell_type": "code",
      "metadata": {
        "colab": {
          "base_uri": "https://localhost:8080/",
          "height": 363
        },
        "id": "KlO6cIdllDYx",
        "outputId": "59078908-cb64-4bcf-8352-4c7ea23ef9cb"
      },
      "source": [
        "# recoding classification into 3 categories (treshold for negative is <-0.2 and for positive is 0.3<)\n",
        "s_bbc['label'] = 0\n",
        "s_bbc.loc[s_bbc['compound'] > 0.3, 'label'] = 1\n",
        "s_bbc.loc[s_bbc['compound'] < -0.2, 'label'] = -1\n",
        "s_bbc.head(10)"
      ],
      "execution_count": null,
      "outputs": [
        {
          "output_type": "execute_result",
          "data": {
            "text/html": [
              "<div>\n",
              "<style scoped>\n",
              "    .dataframe tbody tr th:only-of-type {\n",
              "        vertical-align: middle;\n",
              "    }\n",
              "\n",
              "    .dataframe tbody tr th {\n",
              "        vertical-align: top;\n",
              "    }\n",
              "\n",
              "    .dataframe thead th {\n",
              "        text-align: right;\n",
              "    }\n",
              "</style>\n",
              "<table border=\"1\" class=\"dataframe\">\n",
              "  <thead>\n",
              "    <tr style=\"text-align: right;\">\n",
              "      <th></th>\n",
              "      <th>neg</th>\n",
              "      <th>neu</th>\n",
              "      <th>pos</th>\n",
              "      <th>compound</th>\n",
              "      <th>sentence</th>\n",
              "      <th>newspaper</th>\n",
              "      <th>label</th>\n",
              "    </tr>\n",
              "  </thead>\n",
              "  <tbody>\n",
              "    <tr>\n",
              "      <th>0</th>\n",
              "      <td>0.163</td>\n",
              "      <td>0.837</td>\n",
              "      <td>0.000</td>\n",
              "      <td>-0.6486</td>\n",
              "      <td>After India’s devastating second Covid wave, t...</td>\n",
              "      <td>BBC</td>\n",
              "      <td>-1</td>\n",
              "    </tr>\n",
              "    <tr>\n",
              "      <th>1</th>\n",
              "      <td>0.000</td>\n",
              "      <td>1.000</td>\n",
              "      <td>0.000</td>\n",
              "      <td>0.0000</td>\n",
              "      <td>The disease has been declared an epidemic in t...</td>\n",
              "      <td>BBC</td>\n",
              "      <td>0</td>\n",
              "    </tr>\n",
              "    <tr>\n",
              "      <th>2</th>\n",
              "      <td>0.474</td>\n",
              "      <td>0.526</td>\n",
              "      <td>0.000</td>\n",
              "      <td>-0.5574</td>\n",
              "      <td>Thousands have died of it.</td>\n",
              "      <td>BBC</td>\n",
              "      <td>-1</td>\n",
              "    </tr>\n",
              "    <tr>\n",
              "      <th>3</th>\n",
              "      <td>0.000</td>\n",
              "      <td>1.000</td>\n",
              "      <td>0.000</td>\n",
              "      <td>0.0000</td>\n",
              "      <td>Doctors say Covid, and the treatment being giv...</td>\n",
              "      <td>BBC</td>\n",
              "      <td>0</td>\n",
              "    </tr>\n",
              "    <tr>\n",
              "      <th>4</th>\n",
              "      <td>0.289</td>\n",
              "      <td>0.711</td>\n",
              "      <td>0.000</td>\n",
              "      <td>-0.6908</td>\n",
              "      <td>From a public hospital in Pune, one of the wor...</td>\n",
              "      <td>BBC</td>\n",
              "      <td>-1</td>\n",
              "    </tr>\n",
              "    <tr>\n",
              "      <th>5</th>\n",
              "      <td>0.000</td>\n",
              "      <td>1.000</td>\n",
              "      <td>0.000</td>\n",
              "      <td>0.0000</td>\n",
              "      <td>Filmed by Sanjay Ganguly.</td>\n",
              "      <td>BBC</td>\n",
              "      <td>0</td>\n",
              "    </tr>\n",
              "    <tr>\n",
              "      <th>6</th>\n",
              "      <td>0.000</td>\n",
              "      <td>1.000</td>\n",
              "      <td>0.000</td>\n",
              "      <td>0.0000</td>\n",
              "      <td>Produced and edited by Aakriti ThaparNeither t...</td>\n",
              "      <td>BBC</td>\n",
              "      <td>0</td>\n",
              "    </tr>\n",
              "    <tr>\n",
              "      <th>7</th>\n",
              "      <td>0.000</td>\n",
              "      <td>0.795</td>\n",
              "      <td>0.205</td>\n",
              "      <td>0.7351</td>\n",
              "      <td>However, Balearic Islands Health Minister Patr...</td>\n",
              "      <td>BBC</td>\n",
              "      <td>1</td>\n",
              "    </tr>\n",
              "    <tr>\n",
              "      <th>8</th>\n",
              "      <td>0.000</td>\n",
              "      <td>1.000</td>\n",
              "      <td>0.000</td>\n",
              "      <td>0.0000</td>\n",
              "      <td>So far 26.</td>\n",
              "      <td>BBC</td>\n",
              "      <td>0</td>\n",
              "    </tr>\n",
              "    <tr>\n",
              "      <th>9</th>\n",
              "      <td>0.000</td>\n",
              "      <td>0.821</td>\n",
              "      <td>0.179</td>\n",
              "      <td>0.6124</td>\n",
              "      <td>1% of young people in quarantine had tested po...</td>\n",
              "      <td>BBC</td>\n",
              "      <td>1</td>\n",
              "    </tr>\n",
              "  </tbody>\n",
              "</table>\n",
              "</div>"
            ],
            "text/plain": [
              "     neg    neu  ...  newspaper  label\n",
              "0  0.163  0.837  ...        BBC     -1\n",
              "1  0.000  1.000  ...        BBC      0\n",
              "2  0.474  0.526  ...        BBC     -1\n",
              "3  0.000  1.000  ...        BBC      0\n",
              "4  0.289  0.711  ...        BBC     -1\n",
              "5  0.000  1.000  ...        BBC      0\n",
              "6  0.000  1.000  ...        BBC      0\n",
              "7  0.000  0.795  ...        BBC      1\n",
              "8  0.000  1.000  ...        BBC      0\n",
              "9  0.000  0.821  ...        BBC      1\n",
              "\n",
              "[10 rows x 7 columns]"
            ]
          },
          "metadata": {
            "tags": []
          },
          "execution_count": 23
        }
      ]
    },
    {
      "cell_type": "code",
      "metadata": {
        "colab": {
          "base_uri": "https://localhost:8080/"
        },
        "id": "0qhUMc28lQhf",
        "outputId": "94ffb696-f573-4420-9954-63c958af436a"
      },
      "source": [
        "print(s_bbc[s_bbc['label'] != 0]['label'].value_counts())"
      ],
      "execution_count": null,
      "outputs": [
        {
          "output_type": "stream",
          "text": [
            "-1    120\n",
            " 1    104\n",
            "Name: label, dtype: int64\n"
          ],
          "name": "stdout"
        }
      ]
    },
    {
      "cell_type": "code",
      "metadata": {
        "colab": {
          "base_uri": "https://localhost:8080/"
        },
        "id": "umhaS_illXfY",
        "outputId": "a7916b83-e32e-4fee-c6c9-788f16d348dc"
      },
      "source": [
        "# now we normalize data\n",
        "counts_bbc = s_bbc[s_bbc['label'] != 0]['label'].value_counts(normalize=True)\n",
        "print(counts_bbc)"
      ],
      "execution_count": null,
      "outputs": [
        {
          "output_type": "stream",
          "text": [
            "-1    0.535714\n",
            " 1    0.464286\n",
            "Name: label, dtype: float64\n"
          ],
          "name": "stdout"
        }
      ]
    },
    {
      "cell_type": "code",
      "metadata": {
        "colab": {
          "base_uri": "https://localhost:8080/",
          "height": 320
        },
        "id": "hl1_bdjwlXnJ",
        "outputId": "68db451b-a011-4c30-bf42-5c6904809f38"
      },
      "source": [
        "fig, ax = plt.subplots(figsize=(5, 5))\n",
        "sns.barplot(x=counts_bbc.index, y=counts_bbc*100, ax=ax)\n",
        "\n",
        "ax.set_xticklabels(['Negative', 'Positive'])\n",
        "ax.set_ylabel(\"Percentage\")\n",
        "\n",
        "plt.show()"
      ],
      "execution_count": null,
      "outputs": [
        {
          "output_type": "display_data",
          "data": {
            "image/png": "[encoded data removed]",
            "text/plain": [
              "<Figure size 360x360 with 1 Axes>"
            ]
          },
          "metadata": {
            "tags": [],
            "needs_background": "light"
          }
        }
      ]
    },
    {
      "cell_type": "markdown",
      "metadata": {
        "id": "rQEom5eIlCgW"
      },
      "source": [
        "## Sentiment analysis on words from 'BBC'"
      ]
    },
    {
      "cell_type": "code",
      "metadata": {
        "id": "aj0l5CcPmLal"
      },
      "source": [
        "news_b = nltk.word_tokenize(bbc_raw) # tokenize text file\n",
        "news_bbc = Text(news_b) # create NLTK text from a text file"
      ],
      "execution_count": null,
      "outputs": []
    },
    {
      "cell_type": "markdown",
      "metadata": {
        "id": "NJjEGEtDLOui"
      },
      "source": [
        "### Positive sentiment"
      ]
    },
    {
      "cell_type": "code",
      "metadata": {
        "colab": {
          "base_uri": "https://localhost:8080/"
        },
        "id": "rw8MgFUmmMMZ",
        "outputId": "b349fd58-3ea6-4b0c-9ddc-b9e8049e25c4"
      },
      "source": [
        "pos_lines_bbc = list(s_bbc[s_bbc.label == 1].sentence)\n",
        "pos_tokens_bbc = process_text(pos_lines_bbc)\n",
        "pos_freq_bbc = nltk.FreqDist(pos_tokens_bbc)\n",
        "\n",
        "pos_freq_bbc.most_common(20)\n"
      ],
      "execution_count": null,
      "outputs": [
        {
          "output_type": "execute_result",
          "data": {
            "text/plain": [
              "[('positive', 24),\n",
              " ('tests', 19),\n",
              " ('uk', 17),\n",
              " ('care', 16),\n",
              " ('covid', 13),\n",
              " ('people', 12),\n",
              " ('wales', 12),\n",
              " ('vaccine', 10),\n",
              " ('use', 9),\n",
              " ('homes', 9),\n",
              " ('health', 8),\n",
              " ('cases', 8),\n",
              " ('testing', 8),\n",
              " ('approved', 8),\n",
              " ('vaccines', 8),\n",
              " ('home', 8),\n",
              " ('said', 7),\n",
              " ('19', 7),\n",
              " ('two', 7),\n",
              " ('vaccination', 7)]"
            ]
          },
          "metadata": {
            "tags": []
          },
          "execution_count": 28
        }
      ]
    },
    {
      "cell_type": "markdown",
      "metadata": {
        "id": "2LSRyWZeLSAu"
      },
      "source": [
        "### Negative sentiment"
      ]
    },
    {
      "cell_type": "code",
      "metadata": {
        "colab": {
          "base_uri": "https://localhost:8080/"
        },
        "id": "xkFL25R1oPhJ",
        "outputId": "9f72ac87-2d8e-482b-82f2-3b6e2f03c245"
      },
      "source": [
        "neg_lines_bbc = list(s_bbc[s_bbc.label == -1].sentence)\n",
        "\n",
        "neg_tokens_bbc = process_text(neg_lines_bbc)\n",
        "neg_freq_bbc = nltk.FreqDist(neg_tokens_bbc)\n",
        "\n",
        "neg_freq_bbc.most_common(20)\n"
      ],
      "execution_count": null,
      "outputs": [
        {
          "output_type": "execute_result",
          "data": {
            "text/plain": [
              "[('covid', 30),\n",
              " ('deaths', 20),\n",
              " ('people', 16),\n",
              " ('death', 16),\n",
              " ('said', 14),\n",
              " ('19', 13),\n",
              " ('may', 12),\n",
              " ('virus', 10),\n",
              " ('wales', 10),\n",
              " ('second', 9),\n",
              " ('wave', 9),\n",
              " ('patients', 9),\n",
              " ('still', 9),\n",
              " ('also', 9),\n",
              " ('cause', 9),\n",
              " ('pandemic', 8),\n",
              " ('one', 7),\n",
              " ('coronavirus', 7),\n",
              " ('time', 7),\n",
              " ('areas', 7)]"
            ]
          },
          "metadata": {
            "tags": []
          },
          "execution_count": 29
        }
      ]
    },
    {
      "cell_type": "markdown",
      "metadata": {
        "id": "_SNr8VpOptmE"
      },
      "source": [
        "# China BBC"
      ]
    },
    {
      "cell_type": "code",
      "metadata": {
        "colab": {
          "base_uri": "https://localhost:8080/"
        },
        "id": "yMJSfJHAuZoH",
        "outputId": "44b59f55-5e25-4eb6-97c2-f1d7ca407cb0"
      },
      "source": [
        "s_bbc[s_bbc['sentence'].str.contains('China')]['sentence']"
      ],
      "execution_count": null,
      "outputs": [
        {
          "output_type": "execute_result",
          "data": {
            "text/plain": [
              "167    The Sinovac, CanSino and Sinopharm vaccines ha...\n",
              "168    Around one million people in China are reporte...\n",
              "256    Quarantine was imposed on 273 people travellin...\n",
              "257    Others from \"high-risk countries\" including Ch...\n",
              "262                          China accounted for just 0.\n",
              "Name: sentence, dtype: object"
            ]
          },
          "metadata": {
            "tags": []
          },
          "execution_count": 30
        }
      ]
    },
    {
      "cell_type": "code",
      "metadata": {
        "colab": {
          "base_uri": "https://localhost:8080/"
        },
        "id": "K0MpN9FjoNfX",
        "outputId": "7c0639ab-244c-4db9-c14a-fdeb86e3ae26"
      },
      "source": [
        "news_bbc.concordance('China')"
      ],
      "execution_count": null,
      "outputs": [
        {
          "output_type": "stream",
          "text": [
            "Displaying 5 of 5 matches:\n",
            "have been developed by scientists in China and deals have signed with other cou\n",
            "erica . Around one million people in China are reported to have been given the \n",
            " 273 people travelling from Wuhan in China , where the first outbreak was seen \n",
            " `` high-risk countries '' including China , Iran and Northern Italy were asked\n",
            "er of which faced any restrictions . China accounted for just 0.4 % of imported\n"
          ],
          "name": "stdout"
        }
      ]
    },
    {
      "cell_type": "code",
      "metadata": {
        "colab": {
          "base_uri": "https://localhost:8080/",
          "height": 295
        },
        "id": "VBF1VrLCqTjR",
        "outputId": "ecf83017-61b9-4078-ec7a-2dd9ffd3ace8"
      },
      "source": [
        "news_bbc.dispersion_plot([\"China\", \"Beijing\", \"blame\", \"deaths\", \"vaccine\", \"variant\", \"pandemic\", \"restrictions\", \"freedom\"])"
      ],
      "execution_count": null,
      "outputs": [
        {
          "output_type": "display_data",
          "data": {
            "image/png": "[encoded data removed]",
            "text/plain": [
              "<Figure size 432x288 with 1 Axes>"
            ]
          },
          "metadata": {
            "tags": [],
            "needs_background": "light"
          }
        }
      ]
    },
    {
      "cell_type": "markdown",
      "metadata": {
        "id": "nmUU-c57cRze"
      },
      "source": [
        "# Classification"
      ]
    },
    {
      "cell_type": "markdown",
      "metadata": {
        "id": "er5b5_k2jTXt"
      },
      "source": [
        "## Data"
      ]
    },
    {
      "cell_type": "code",
      "metadata": {
        "id": "epdCihI2Wju4"
      },
      "source": [
        "# DataFrame from guardian and bbc sentences\n",
        "# column 'Sentence'\n",
        "# dummy column 'Guradian' -> if sentence from guardian\n",
        "df_guar = pd.DataFrame(guardian_sentences, columns=['Sentence'])\n",
        "df_guar['Guardian'] = 1\n",
        "df_bbc = pd.DataFrame(bbc_sentences, columns=['Sentence'])\n",
        "df = df_guar.append(df_bbc).fillna(0)"
      ],
      "execution_count": null,
      "outputs": []
    },
    {
      "cell_type": "code",
      "metadata": {
        "id": "JMpXAqfHj9Vo"
      },
      "source": [
        "from sklearn.feature_extraction.text import CountVectorizer\n",
        "from sklearn.feature_extraction.text import TfidfTransformer\n",
        "\n",
        "# count how often each word occurs in each sentence\n",
        "count_vect = CountVectorizer()\n",
        "X_counts = count_vect.fit_transform(df['Sentence'])\n",
        "\n",
        "tfidf_transformer = TfidfTransformer()\n",
        "X_tfidf = tfidf_transformer.fit_transform(X_counts)"
      ],
      "execution_count": null,
      "outputs": []
    },
    {
      "cell_type": "code",
      "metadata": {
        "id": "EPbXSB8PkZwr"
      },
      "source": [
        "# split data into train and test sets\n",
        "\n",
        "from sklearn.model_selection import train_test_split\n",
        "\n",
        "X_train, X_test, y_train, y_test = train_test_split(X_tfidf, df['Guardian'], test_size=0.25, random_state=1000)\n"
      ],
      "execution_count": null,
      "outputs": []
    },
    {
      "cell_type": "markdown",
      "metadata": {
        "id": "O8dXJUsfjO2p"
      },
      "source": [
        "## Naive Bayes"
      ]
    },
    {
      "cell_type": "code",
      "metadata": {
        "id": "PcB160jDh8WO"
      },
      "source": [
        "# Multinomial Naive Bayes Classifier\n",
        "\n",
        "from sklearn.naive_bayes import MultinomialNB\n",
        "from sklearn.metrics import classification_report, confusion_matrix, accuracy_score\n",
        "\n",
        "clf = MultinomialNB().fit(X_train, y_train)"
      ],
      "execution_count": null,
      "outputs": []
    },
    {
      "cell_type": "code",
      "metadata": {
        "colab": {
          "base_uri": "https://localhost:8080/"
        },
        "id": "qOPAHnLDR97Z",
        "outputId": "19e30277-6bb1-4701-c9b0-2af0733183e3"
      },
      "source": [
        "# performance\n",
        "print(\"Naive Bayes Classifier\")\n",
        "print(\"*\"*25)\n",
        "print(\"Training score: {:.4f}\".format(clf.score(X_train, y_train)))\n",
        "print(\"*\"*25)\n",
        "print(\"Accuracy score: {:.4f}\".format(accuracy_score(y_test, clf.predict(X_test))))\n",
        "print(\"*\"*25)"
      ],
      "execution_count": null,
      "outputs": [
        {
          "output_type": "stream",
          "text": [
            "Naive Bayes Classifier\n",
            "*************************\n",
            "Training score: 0.8060\n",
            "*************************\n",
            "Accuracy score: 0.7798\n",
            "*************************\n"
          ],
          "name": "stdout"
        }
      ]
    },
    {
      "cell_type": "markdown",
      "metadata": {
        "id": "ogg6vW8DnCZn"
      },
      "source": [
        "# SVM"
      ]
    },
    {
      "cell_type": "code",
      "metadata": {
        "id": "lejGA1nvjsf6"
      },
      "source": [
        "# SVM classifier\n",
        "\n",
        "from sklearn.linear_model import SGDClassifier\n",
        "\n",
        "clf_svm = SGDClassifier(loss='hinge', penalty='l2', alpha=1e-3, random_state=42)\n",
        "clf_svm.fit(X_train, y_train)\n",
        "predicted_svm = clf_svm.predict(X_test)"
      ],
      "execution_count": null,
      "outputs": []
    },
    {
      "cell_type": "code",
      "metadata": {
        "colab": {
          "base_uri": "https://localhost:8080/"
        },
        "id": "2okAn0JgnczL",
        "outputId": "2e176c1e-e4c6-4729-d45c-777c1694b802"
      },
      "source": [
        "# performance\n",
        "print(\"SVM Classifier\")\n",
        "print(\"*\"*25)\n",
        "print(\"Training score: {:.4f}\".format(clf_svm.score(X_train, y_train)))\n",
        "print(\"*\"*25)\n",
        "print(\"Accuracy score: {:.4f}\".format(accuracy_score(y_test, clf_svm.predict(X_test))))\n",
        "print(\"*\"*25)"
      ],
      "execution_count": null,
      "outputs": [
        {
          "output_type": "stream",
          "text": [
            "SVM Classifier\n",
            "*************************\n",
            "Training score: 0.8999\n",
            "*************************\n",
            "Accuracy score: 0.8543\n",
            "*************************\n"
          ],
          "name": "stdout"
        }
      ]
    },
    {
      "cell_type": "markdown",
      "metadata": {
        "id": "depADyDz9i6-"
      },
      "source": [
        "# Conclusions"
      ]
    },
    {
      "cell_type": "markdown",
      "metadata": {
        "id": "vbwvB1oM9zKg"
      },
      "source": [
        "We conducted a sentiment analysis for 2 newspapers: \"The Guardian\" and  \"BBC\", both for words and for sentences. Additionally, we investigated the dispersion of the word \"China\" for both newspapers.\n",
        "\n",
        "After that, we built a model that is able to predict from which newspaper is a given sentence. Our best classifier (SVM) showed an accuracy score equal to 85% on the test set and almost 90% on the training set. Naive Bayes classifier showed an accuracy score equal to 78% on the test set and almost 81% on the training set."
      ]
    }
  ]
}